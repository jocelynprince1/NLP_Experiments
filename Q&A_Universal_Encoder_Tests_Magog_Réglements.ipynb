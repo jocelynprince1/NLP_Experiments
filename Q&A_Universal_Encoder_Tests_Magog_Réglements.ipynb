{
  "nbformat": 4,
  "nbformat_minor": 0,
  "metadata": {
    "accelerator": "GPU",
    "colab": {
      "name": "Q&A Universal Encoder Tests Magog Réglements",
      "provenance": [],
      "collapsed_sections": [],
      "include_colab_link": true
    },
    "kernelspec": {
      "display_name": "Python 3",
      "language": "python",
      "name": "python3"
    }
  },
  "cells": [
    {
      "cell_type": "markdown",
      "metadata": {
        "id": "view-in-github",
        "colab_type": "text"
      },
      "source": [
        "<a href=\"https://colab.research.google.com/github/jocelynprince1/NLP_Experiments/blob/master/Q%26A_Universal_Encoder_Tests_Magog_R%C3%A9glements.ipynb\" target=\"_parent\"><img src=\"https://colab.research.google.com/assets/colab-badge.svg\" alt=\"Open In Colab\"/></a>"
      ]
    },
    {
      "cell_type": "markdown",
      "metadata": {
        "id": "zJPvEnC3wVR8",
        "colab_type": "text"
      },
      "source": [
        "# Q&A With Universal Sentence Encoder - TensorFlow Hub module\n",
        "\n",
        "#### Jocelyn Prince (Mar 2020) based on examples provided by references below\n",
        "---"
      ]
    },
    {
      "cell_type": "markdown",
      "metadata": {
        "id": "j3PXQr6jwVR_",
        "colab_type": "text"
      },
      "source": [
        "### Description\n",
        "Find some specific statements in \"Règlements de la Ville de Magog\" to perform semantic searches (e.g. not using the same words by the same meaning)\n",
        "\n",
        "References:\n",
        "\n",
        "* ELMo: Contextual language embedding by Josh Taylor: https://towardsdatascience.com/elmo-contextual-language-embedding-335de2268604\n",
        "\n",
        "* Prateek Joshi and his post: https://www.analyticsvidhya.com/blog/2019/03/learn-to-use-elmo-to-extract-features-from-text/\n",
        "\n",
        "* https://arxiv.org/pdf/1802.05365.pdf\n",
        "\n",
        "* https://colab.research.google.com/github/tensorflow/hub/blob/master/examples/colab/tf2_text_classification.ipynb#scrollTo=Eg62Pmz3o83v\n",
        "\n",
        "* Aurélien Géron’s Book: hands-on Machine Learning with Scikit-Learn, Keras and Tensorflow, O’Reilly Media Inc.\n",
        "-----"
      ]
    },
    {
      "cell_type": "markdown",
      "metadata": {
        "colab_type": "text",
        "id": "zsDm_WgMNlJQ"
      },
      "source": [
        "This is a demo for using [Univeral Encoder Multilingual Q&A model](https://tfhub.dev/google/universal-sentence-encoder-multilingual-qa/3) for question-answer retrieval of text, illustrating the use of **question_encoder** and **response_encoder** of the model. \n",
        "\n",
        "The original notebook used sentences from [SQuAD](https://rajpurkar.github.io/SQuAD-explorer/) paragraphs as the demo dataset, each sentence and its context (the text surrounding the sentence) is encoded into high dimension embeddings with the **response_encoder**. These embeddings are stored in an index built using the [simpleneighbors](https://pypi.org/project/simpleneighbors/) library for question-answer retrieval.\n",
        "\n",
        "Note: This colab requires **Python 3** runtime type, which can be selected from ***Runtime->Change Runtime type*** dropdown menu above, and\n",
        "to enable faster processing, select Hardware Accelerator \"**GPU**\". Estimated indexing time of the SQuAD train 2.0 dataset with ~94,000 sentences with GPU is about 3 mins."
      ]
    },
    {
      "cell_type": "code",
      "metadata": {
        "cellView": "both",
        "colab_type": "code",
        "id": "x00t_uJCEbeb",
        "outputId": "7784ce60-9b2b-4942-cbf0-d8affd80a9b2",
        "colab": {
          "base_uri": "https://localhost:8080/",
          "height": 1000
        }
      },
      "source": [
        "#%%capture\n",
        "#@title Setup Environment\n",
        "# Install the latest Tensorflow version.\n",
        "!pip3 install tensorflow_text\n",
        "!pip3 install --upgrade tensorflow-gpu\n",
        "!pip3 install tensorflow-hub\n",
        "!pip3 install simpleneighbors\n",
        "!pip3 install nltk"
      ],
      "execution_count": 0,
      "outputs": [
        {
          "output_type": "stream",
          "text": [
            "Collecting tensorflow_text\n",
            "\u001b[?25l  Downloading https://files.pythonhosted.org/packages/78/e7/d260e51d44bea241e8eee39d0266df9b33a3d6219ded118a1c81a872e848/tensorflow_text-2.2.0-cp36-cp36m-manylinux1_x86_64.whl (3.0MB)\n",
            "\u001b[K     |████████████████████████████████| 3.0MB 9.1MB/s \n",
            "\u001b[?25hRequirement already satisfied: tensorflow<2.3,>=2.2.0 in /usr/local/lib/python3.6/dist-packages (from tensorflow_text) (2.2.0)\n",
            "Requirement already satisfied: wrapt>=1.11.1 in /usr/local/lib/python3.6/dist-packages (from tensorflow<2.3,>=2.2.0->tensorflow_text) (1.12.1)\n",
            "Requirement already satisfied: wheel>=0.26; python_version >= \"3\" in /usr/local/lib/python3.6/dist-packages (from tensorflow<2.3,>=2.2.0->tensorflow_text) (0.34.2)\n",
            "Requirement already satisfied: scipy==1.4.1; python_version >= \"3\" in /usr/local/lib/python3.6/dist-packages (from tensorflow<2.3,>=2.2.0->tensorflow_text) (1.4.1)\n",
            "Requirement already satisfied: numpy<2.0,>=1.16.0 in /usr/local/lib/python3.6/dist-packages (from tensorflow<2.3,>=2.2.0->tensorflow_text) (1.18.4)\n",
            "Requirement already satisfied: opt-einsum>=2.3.2 in /usr/local/lib/python3.6/dist-packages (from tensorflow<2.3,>=2.2.0->tensorflow_text) (3.2.1)\n",
            "Requirement already satisfied: six>=1.12.0 in /usr/local/lib/python3.6/dist-packages (from tensorflow<2.3,>=2.2.0->tensorflow_text) (1.12.0)\n",
            "Requirement already satisfied: tensorflow-estimator<2.3.0,>=2.2.0 in /usr/local/lib/python3.6/dist-packages (from tensorflow<2.3,>=2.2.0->tensorflow_text) (2.2.0)\n",
            "Requirement already satisfied: google-pasta>=0.1.8 in /usr/local/lib/python3.6/dist-packages (from tensorflow<2.3,>=2.2.0->tensorflow_text) (0.2.0)\n",
            "Requirement already satisfied: gast==0.3.3 in /usr/local/lib/python3.6/dist-packages (from tensorflow<2.3,>=2.2.0->tensorflow_text) (0.3.3)\n",
            "Requirement already satisfied: absl-py>=0.7.0 in /usr/local/lib/python3.6/dist-packages (from tensorflow<2.3,>=2.2.0->tensorflow_text) (0.9.0)\n",
            "Requirement already satisfied: astunparse==1.6.3 in /usr/local/lib/python3.6/dist-packages (from tensorflow<2.3,>=2.2.0->tensorflow_text) (1.6.3)\n",
            "Requirement already satisfied: grpcio>=1.8.6 in /usr/local/lib/python3.6/dist-packages (from tensorflow<2.3,>=2.2.0->tensorflow_text) (1.28.1)\n",
            "Requirement already satisfied: protobuf>=3.8.0 in /usr/local/lib/python3.6/dist-packages (from tensorflow<2.3,>=2.2.0->tensorflow_text) (3.10.0)\n",
            "Requirement already satisfied: h5py<2.11.0,>=2.10.0 in /usr/local/lib/python3.6/dist-packages (from tensorflow<2.3,>=2.2.0->tensorflow_text) (2.10.0)\n",
            "Requirement already satisfied: termcolor>=1.1.0 in /usr/local/lib/python3.6/dist-packages (from tensorflow<2.3,>=2.2.0->tensorflow_text) (1.1.0)\n",
            "Requirement already satisfied: keras-preprocessing>=1.1.0 in /usr/local/lib/python3.6/dist-packages (from tensorflow<2.3,>=2.2.0->tensorflow_text) (1.1.0)\n",
            "Requirement already satisfied: tensorboard<2.3.0,>=2.2.0 in /usr/local/lib/python3.6/dist-packages (from tensorflow<2.3,>=2.2.0->tensorflow_text) (2.2.1)\n",
            "Requirement already satisfied: setuptools in /usr/local/lib/python3.6/dist-packages (from protobuf>=3.8.0->tensorflow<2.3,>=2.2.0->tensorflow_text) (46.3.0)\n",
            "Requirement already satisfied: tensorboard-plugin-wit>=1.6.0 in /usr/local/lib/python3.6/dist-packages (from tensorboard<2.3.0,>=2.2.0->tensorflow<2.3,>=2.2.0->tensorflow_text) (1.6.0.post3)\n",
            "Requirement already satisfied: google-auth<2,>=1.6.3 in /usr/local/lib/python3.6/dist-packages (from tensorboard<2.3.0,>=2.2.0->tensorflow<2.3,>=2.2.0->tensorflow_text) (1.7.2)\n",
            "Requirement already satisfied: werkzeug>=0.11.15 in /usr/local/lib/python3.6/dist-packages (from tensorboard<2.3.0,>=2.2.0->tensorflow<2.3,>=2.2.0->tensorflow_text) (1.0.1)\n",
            "Requirement already satisfied: markdown>=2.6.8 in /usr/local/lib/python3.6/dist-packages (from tensorboard<2.3.0,>=2.2.0->tensorflow<2.3,>=2.2.0->tensorflow_text) (3.2.1)\n",
            "Requirement already satisfied: requests<3,>=2.21.0 in /usr/local/lib/python3.6/dist-packages (from tensorboard<2.3.0,>=2.2.0->tensorflow<2.3,>=2.2.0->tensorflow_text) (2.23.0)\n",
            "Requirement already satisfied: google-auth-oauthlib<0.5,>=0.4.1 in /usr/local/lib/python3.6/dist-packages (from tensorboard<2.3.0,>=2.2.0->tensorflow<2.3,>=2.2.0->tensorflow_text) (0.4.1)\n",
            "Requirement already satisfied: cachetools<3.2,>=2.0.0 in /usr/local/lib/python3.6/dist-packages (from google-auth<2,>=1.6.3->tensorboard<2.3.0,>=2.2.0->tensorflow<2.3,>=2.2.0->tensorflow_text) (3.1.1)\n",
            "Requirement already satisfied: pyasn1-modules>=0.2.1 in /usr/local/lib/python3.6/dist-packages (from google-auth<2,>=1.6.3->tensorboard<2.3.0,>=2.2.0->tensorflow<2.3,>=2.2.0->tensorflow_text) (0.2.8)\n",
            "Requirement already satisfied: rsa<4.1,>=3.1.4 in /usr/local/lib/python3.6/dist-packages (from google-auth<2,>=1.6.3->tensorboard<2.3.0,>=2.2.0->tensorflow<2.3,>=2.2.0->tensorflow_text) (4.0)\n",
            "Requirement already satisfied: idna<3,>=2.5 in /usr/local/lib/python3.6/dist-packages (from requests<3,>=2.21.0->tensorboard<2.3.0,>=2.2.0->tensorflow<2.3,>=2.2.0->tensorflow_text) (2.9)\n",
            "Requirement already satisfied: chardet<4,>=3.0.2 in /usr/local/lib/python3.6/dist-packages (from requests<3,>=2.21.0->tensorboard<2.3.0,>=2.2.0->tensorflow<2.3,>=2.2.0->tensorflow_text) (3.0.4)\n",
            "Requirement already satisfied: urllib3!=1.25.0,!=1.25.1,<1.26,>=1.21.1 in /usr/local/lib/python3.6/dist-packages (from requests<3,>=2.21.0->tensorboard<2.3.0,>=2.2.0->tensorflow<2.3,>=2.2.0->tensorflow_text) (1.24.3)\n",
            "Requirement already satisfied: certifi>=2017.4.17 in /usr/local/lib/python3.6/dist-packages (from requests<3,>=2.21.0->tensorboard<2.3.0,>=2.2.0->tensorflow<2.3,>=2.2.0->tensorflow_text) (2020.4.5.1)\n",
            "Requirement already satisfied: requests-oauthlib>=0.7.0 in /usr/local/lib/python3.6/dist-packages (from google-auth-oauthlib<0.5,>=0.4.1->tensorboard<2.3.0,>=2.2.0->tensorflow<2.3,>=2.2.0->tensorflow_text) (1.3.0)\n",
            "Requirement already satisfied: pyasn1<0.5.0,>=0.4.6 in /usr/local/lib/python3.6/dist-packages (from pyasn1-modules>=0.2.1->google-auth<2,>=1.6.3->tensorboard<2.3.0,>=2.2.0->tensorflow<2.3,>=2.2.0->tensorflow_text) (0.4.8)\n",
            "Requirement already satisfied: oauthlib>=3.0.0 in /usr/local/lib/python3.6/dist-packages (from requests-oauthlib>=0.7.0->google-auth-oauthlib<0.5,>=0.4.1->tensorboard<2.3.0,>=2.2.0->tensorflow<2.3,>=2.2.0->tensorflow_text) (3.1.0)\n",
            "Installing collected packages: tensorflow-text\n",
            "Successfully installed tensorflow-text-2.2.0\n",
            "Collecting tensorflow-gpu\n",
            "\u001b[?25l  Downloading https://files.pythonhosted.org/packages/31/bf/c28971266ca854a64f4b26f07c4112ddd61f30b4d1f18108b954a746f8ea/tensorflow_gpu-2.2.0-cp36-cp36m-manylinux2010_x86_64.whl (516.2MB)\n",
            "\u001b[K     |████████████████████████████████| 516.2MB 32kB/s \n",
            "\u001b[?25hRequirement already satisfied, skipping upgrade: google-pasta>=0.1.8 in /usr/local/lib/python3.6/dist-packages (from tensorflow-gpu) (0.2.0)\n",
            "Requirement already satisfied, skipping upgrade: gast==0.3.3 in /usr/local/lib/python3.6/dist-packages (from tensorflow-gpu) (0.3.3)\n",
            "Requirement already satisfied, skipping upgrade: opt-einsum>=2.3.2 in /usr/local/lib/python3.6/dist-packages (from tensorflow-gpu) (3.2.1)\n",
            "Requirement already satisfied, skipping upgrade: protobuf>=3.8.0 in /usr/local/lib/python3.6/dist-packages (from tensorflow-gpu) (3.10.0)\n",
            "Requirement already satisfied, skipping upgrade: tensorboard<2.3.0,>=2.2.0 in /usr/local/lib/python3.6/dist-packages (from tensorflow-gpu) (2.2.1)\n",
            "Requirement already satisfied, skipping upgrade: h5py<2.11.0,>=2.10.0 in /usr/local/lib/python3.6/dist-packages (from tensorflow-gpu) (2.10.0)\n",
            "Requirement already satisfied, skipping upgrade: grpcio>=1.8.6 in /usr/local/lib/python3.6/dist-packages (from tensorflow-gpu) (1.28.1)\n",
            "Requirement already satisfied, skipping upgrade: scipy==1.4.1; python_version >= \"3\" in /usr/local/lib/python3.6/dist-packages (from tensorflow-gpu) (1.4.1)\n",
            "Requirement already satisfied, skipping upgrade: absl-py>=0.7.0 in /usr/local/lib/python3.6/dist-packages (from tensorflow-gpu) (0.9.0)\n",
            "Requirement already satisfied, skipping upgrade: astunparse==1.6.3 in /usr/local/lib/python3.6/dist-packages (from tensorflow-gpu) (1.6.3)\n",
            "Requirement already satisfied, skipping upgrade: tensorflow-estimator<2.3.0,>=2.2.0 in /usr/local/lib/python3.6/dist-packages (from tensorflow-gpu) (2.2.0)\n",
            "Requirement already satisfied, skipping upgrade: termcolor>=1.1.0 in /usr/local/lib/python3.6/dist-packages (from tensorflow-gpu) (1.1.0)\n",
            "Requirement already satisfied, skipping upgrade: six>=1.12.0 in /usr/local/lib/python3.6/dist-packages (from tensorflow-gpu) (1.12.0)\n",
            "Requirement already satisfied, skipping upgrade: keras-preprocessing>=1.1.0 in /usr/local/lib/python3.6/dist-packages (from tensorflow-gpu) (1.1.0)\n",
            "Requirement already satisfied, skipping upgrade: numpy<2.0,>=1.16.0 in /usr/local/lib/python3.6/dist-packages (from tensorflow-gpu) (1.18.4)\n",
            "Requirement already satisfied, skipping upgrade: wheel>=0.26; python_version >= \"3\" in /usr/local/lib/python3.6/dist-packages (from tensorflow-gpu) (0.34.2)\n",
            "Requirement already satisfied, skipping upgrade: wrapt>=1.11.1 in /usr/local/lib/python3.6/dist-packages (from tensorflow-gpu) (1.12.1)\n",
            "Requirement already satisfied, skipping upgrade: setuptools in /usr/local/lib/python3.6/dist-packages (from protobuf>=3.8.0->tensorflow-gpu) (46.3.0)\n",
            "Requirement already satisfied, skipping upgrade: markdown>=2.6.8 in /usr/local/lib/python3.6/dist-packages (from tensorboard<2.3.0,>=2.2.0->tensorflow-gpu) (3.2.1)\n",
            "Requirement already satisfied, skipping upgrade: google-auth<2,>=1.6.3 in /usr/local/lib/python3.6/dist-packages (from tensorboard<2.3.0,>=2.2.0->tensorflow-gpu) (1.7.2)\n",
            "Requirement already satisfied, skipping upgrade: google-auth-oauthlib<0.5,>=0.4.1 in /usr/local/lib/python3.6/dist-packages (from tensorboard<2.3.0,>=2.2.0->tensorflow-gpu) (0.4.1)\n",
            "Requirement already satisfied, skipping upgrade: tensorboard-plugin-wit>=1.6.0 in /usr/local/lib/python3.6/dist-packages (from tensorboard<2.3.0,>=2.2.0->tensorflow-gpu) (1.6.0.post3)\n",
            "Requirement already satisfied, skipping upgrade: werkzeug>=0.11.15 in /usr/local/lib/python3.6/dist-packages (from tensorboard<2.3.0,>=2.2.0->tensorflow-gpu) (1.0.1)\n",
            "Requirement already satisfied, skipping upgrade: requests<3,>=2.21.0 in /usr/local/lib/python3.6/dist-packages (from tensorboard<2.3.0,>=2.2.0->tensorflow-gpu) (2.23.0)\n",
            "Requirement already satisfied, skipping upgrade: rsa<4.1,>=3.1.4 in /usr/local/lib/python3.6/dist-packages (from google-auth<2,>=1.6.3->tensorboard<2.3.0,>=2.2.0->tensorflow-gpu) (4.0)\n",
            "Requirement already satisfied, skipping upgrade: pyasn1-modules>=0.2.1 in /usr/local/lib/python3.6/dist-packages (from google-auth<2,>=1.6.3->tensorboard<2.3.0,>=2.2.0->tensorflow-gpu) (0.2.8)\n",
            "Requirement already satisfied, skipping upgrade: cachetools<3.2,>=2.0.0 in /usr/local/lib/python3.6/dist-packages (from google-auth<2,>=1.6.3->tensorboard<2.3.0,>=2.2.0->tensorflow-gpu) (3.1.1)\n",
            "Requirement already satisfied, skipping upgrade: requests-oauthlib>=0.7.0 in /usr/local/lib/python3.6/dist-packages (from google-auth-oauthlib<0.5,>=0.4.1->tensorboard<2.3.0,>=2.2.0->tensorflow-gpu) (1.3.0)\n",
            "Requirement already satisfied, skipping upgrade: idna<3,>=2.5 in /usr/local/lib/python3.6/dist-packages (from requests<3,>=2.21.0->tensorboard<2.3.0,>=2.2.0->tensorflow-gpu) (2.9)\n",
            "Requirement already satisfied, skipping upgrade: chardet<4,>=3.0.2 in /usr/local/lib/python3.6/dist-packages (from requests<3,>=2.21.0->tensorboard<2.3.0,>=2.2.0->tensorflow-gpu) (3.0.4)\n",
            "Requirement already satisfied, skipping upgrade: certifi>=2017.4.17 in /usr/local/lib/python3.6/dist-packages (from requests<3,>=2.21.0->tensorboard<2.3.0,>=2.2.0->tensorflow-gpu) (2020.4.5.1)\n",
            "Requirement already satisfied, skipping upgrade: urllib3!=1.25.0,!=1.25.1,<1.26,>=1.21.1 in /usr/local/lib/python3.6/dist-packages (from requests<3,>=2.21.0->tensorboard<2.3.0,>=2.2.0->tensorflow-gpu) (1.24.3)\n",
            "Requirement already satisfied, skipping upgrade: pyasn1>=0.1.3 in /usr/local/lib/python3.6/dist-packages (from rsa<4.1,>=3.1.4->google-auth<2,>=1.6.3->tensorboard<2.3.0,>=2.2.0->tensorflow-gpu) (0.4.8)\n",
            "Requirement already satisfied, skipping upgrade: oauthlib>=3.0.0 in /usr/local/lib/python3.6/dist-packages (from requests-oauthlib>=0.7.0->google-auth-oauthlib<0.5,>=0.4.1->tensorboard<2.3.0,>=2.2.0->tensorflow-gpu) (3.1.0)\n",
            "Installing collected packages: tensorflow-gpu\n",
            "Successfully installed tensorflow-gpu-2.2.0\n",
            "Requirement already satisfied: tensorflow-hub in /usr/local/lib/python3.6/dist-packages (0.8.0)\n",
            "Requirement already satisfied: protobuf>=3.8.0 in /usr/local/lib/python3.6/dist-packages (from tensorflow-hub) (3.10.0)\n",
            "Requirement already satisfied: six>=1.12.0 in /usr/local/lib/python3.6/dist-packages (from tensorflow-hub) (1.12.0)\n",
            "Requirement already satisfied: numpy>=1.12.0 in /usr/local/lib/python3.6/dist-packages (from tensorflow-hub) (1.18.4)\n",
            "Requirement already satisfied: setuptools in /usr/local/lib/python3.6/dist-packages (from protobuf>=3.8.0->tensorflow-hub) (46.3.0)\n",
            "Collecting simpleneighbors\n",
            "  Downloading https://files.pythonhosted.org/packages/f9/10/9092e15d9aa4a9e5a263416121f124e565766767e7866e11d7074ec50df5/simpleneighbors-0.1.0-py2.py3-none-any.whl\n",
            "Installing collected packages: simpleneighbors\n",
            "Successfully installed simpleneighbors-0.1.0\n",
            "Requirement already satisfied: nltk in /usr/local/lib/python3.6/dist-packages (3.2.5)\n",
            "Requirement already satisfied: six in /usr/local/lib/python3.6/dist-packages (from nltk) (1.12.0)\n"
          ],
          "name": "stdout"
        }
      ]
    },
    {
      "cell_type": "code",
      "metadata": {
        "cellView": "code",
        "colab_type": "code",
        "id": "DmeFAuVsyWxg",
        "outputId": "5f7c690b-26a5-4f8b-ca32-2d96857106fa",
        "colab": {
          "base_uri": "https://localhost:8080/",
          "height": 51
        }
      },
      "source": [
        "#@title Setup common imports and functions\n",
        "import json\n",
        "import nltk\n",
        "import os\n",
        "import pprint\n",
        "import random\n",
        "import simpleneighbors\n",
        "import urllib\n",
        "from IPython.display import HTML, display\n",
        "\n",
        "import tensorflow.compat.v2 as tf\n",
        "import tensorflow_hub as hub\n",
        "from tensorflow_text import SentencepieceTokenizer\n",
        "\n",
        "nltk.download('punkt')\n",
        "\n",
        "\n",
        "def download_squad(url):\n",
        "  return json.load(urllib.request.urlopen(url))\n",
        "\n",
        "def extract_sentences_from_squad_json(squad):\n",
        "  all_sentences = []\n",
        "  for data in squad['data']:\n",
        "    for paragraph in data['paragraphs']:\n",
        "      sentences = nltk.tokenize.sent_tokenize(paragraph['context'])\n",
        "      all_sentences.extend(zip(sentences, [paragraph['context']] * len(sentences)))\n",
        "  return list(set(all_sentences)) # remove duplicates\n",
        "\n",
        "def extract_questions_from_squad_json(squad):\n",
        "  questions = []\n",
        "  for data in squad['data']:\n",
        "    for paragraph in data['paragraphs']:\n",
        "      for qas in paragraph['qas']:\n",
        "        if qas['answers']:\n",
        "          questions.append((qas['question'], qas['answers'][0]['text']))\n",
        "  return list(set(questions))\n",
        "\n",
        "def output_with_highlight(text, highlight):\n",
        "  output = \"<li> \"\n",
        "  i = text.find(highlight)\n",
        "  while True:\n",
        "    if i == -1:\n",
        "      output += text\n",
        "      break\n",
        "    output += text[0:i]\n",
        "    output += '<b>'+text[i:i+len(highlight)]+'</b>'\n",
        "    text = text[i+len(highlight):]\n",
        "    i = text.find(highlight)\n",
        "  return output + \"</li>\\n\"\n",
        "\n",
        "def display_nearest_neighbors(query_text, answer_text=None):\n",
        "  query_embedding = model.signatures['question_encoder'](tf.constant([query_text]))['outputs'][0]\n",
        "  #print(query_embedding)\n",
        "  search_results = index.nearest(query_embedding, n=num_results)\n",
        "  print(search_results)\n",
        "\n",
        "  if answer_text:\n",
        "    result_md = '''\n",
        "    <p>Random Question from SQuAD:</p>\n",
        "    <p>&nbsp;&nbsp;<b>%s</b></p>\n",
        "    <p>Answer:</p>\n",
        "    <p>&nbsp;&nbsp;<b>%s</b></p>\n",
        "    ''' % (query_text , answer_text)\n",
        "  else:\n",
        "    result_md = '''\n",
        "    <p>Question:</p>\n",
        "    <p>&nbsp;&nbsp;<b>%s</b></p>\n",
        "    ''' % query_text\n",
        "\n",
        "  result_md += '''\n",
        "    <p>Retrieved sentences :\n",
        "    <ol>\n",
        "  '''\n",
        "\n",
        "  if answer_text:\n",
        "    for s in search_results:\n",
        "      result_md += output_with_highlight(s, answer_text)\n",
        "  else:\n",
        "    for s in search_results:\n",
        "      result_md += '<li>'+ s +'</li>\\n'\n",
        "\n",
        "  result_md += \"</ol>\"\n",
        "  display(HTML(result_md))"
      ],
      "execution_count": 0,
      "outputs": [
        {
          "output_type": "stream",
          "text": [
            "[nltk_data] Downloading package punkt to /root/nltk_data...\n",
            "[nltk_data]   Unzipping tokenizers/punkt.zip.\n"
          ],
          "name": "stdout"
        }
      ]
    },
    {
      "cell_type": "code",
      "metadata": {
        "id": "FAGYxh-cSazd",
        "colab_type": "code",
        "outputId": "9fb63da0-4843-495c-f4b7-fee75fb4e37a",
        "colab": {
          "base_uri": "https://localhost:8080/",
          "height": 122
        }
      },
      "source": [
        "from google.colab import drive\n",
        "drive.mount('/content/drive')"
      ],
      "execution_count": 0,
      "outputs": [
        {
          "output_type": "stream",
          "text": [
            "Go to this URL in a browser: https://accounts.google.com/o/oauth2/auth?client_id=947318989803-6bn6qk8qdgf4n4g3pfee6491hc0brc4i.apps.googleusercontent.com&redirect_uri=urn%3aietf%3awg%3aoauth%3a2.0%3aoob&response_type=code&scope=email%20https%3a%2f%2fwww.googleapis.com%2fauth%2fdocs.test%20https%3a%2f%2fwww.googleapis.com%2fauth%2fdrive%20https%3a%2f%2fwww.googleapis.com%2fauth%2fdrive.photos.readonly%20https%3a%2f%2fwww.googleapis.com%2fauth%2fpeopleapi.readonly\n",
            "\n",
            "Enter your authorization code:\n",
            "··········\n",
            "Mounted at /content/drive\n"
          ],
          "name": "stdout"
        }
      ]
    },
    {
      "cell_type": "code",
      "metadata": {
        "id": "a8H5pFQjrqHF",
        "colab_type": "code",
        "colab": {}
      },
      "source": [
        "# This Notebook needs to be executed under Python ≥3.5 and TensorFlow >= 2.0\n",
        "import sys\n",
        "assert sys.version_info >= (3, 5)\n",
        "\n",
        "\n",
        "# Common imports\n",
        "import time\n",
        "import pandas as pd\n",
        "import numpy as np"
      ],
      "execution_count": 0,
      "outputs": []
    },
    {
      "cell_type": "code",
      "metadata": {
        "id": "tks_4eXwiqVR",
        "colab_type": "code",
        "colab": {}
      },
      "source": [
        "# *!**!*!*!*!*!*!*!*\n",
        "# ATTENTION: Fichiers doivent être sauvegardés en UTF-8\n",
        "# -----------------------------------------------------\n",
        "\n",
        "#TOS_file = \"/content/drive/My Drive/Colab Notebooks/NLP/Terms_of_use/Apple_Terms_of_Use_2019.txt\"\n",
        "#TOS_file = \"/content/drive/My Drive/Colab Notebooks/NLP/Terms_of_use/Apple_Terms_of_Use_2019v2.txt\"\n",
        "#TOS_file = \"/content/drive/My Drive/Colab Notebooks/NLP/Terms_of_use/applev3.txt\"\n",
        "#TOS_file = \"/content/drive/My Drive/Colab Notebooks/NLP/Terms_of_use/weathernetworkv1.txt\"\n",
        "#TOS_file = \"/content/drive/My Drive/Colab Notebooks/NLP/Terms_of_use/Test1.txt\"\n",
        "TOS_file = \"/content/drive/My Drive/Colab Notebooks/NLP/Reglements/Magog_reglements3.txt\"\n",
        "\n",
        "# *!**!*!*!*!*!*!*!*\n",
        "# ATTENTION: Fichiers doivent être sauvegardés en UTF-8\n",
        "# -----------------------------------------------------\n"
      ],
      "execution_count": 0,
      "outputs": []
    },
    {
      "cell_type": "code",
      "metadata": {
        "id": "HLK3_XTQj50V",
        "colab_type": "code",
        "outputId": "f374e8cc-51e2-4628-9d22-f19270b8c8d1",
        "colab": {
          "base_uri": "https://localhost:8080/",
          "height": 88
        }
      },
      "source": [
        "import nltk\n",
        "nltk.download('punkt')\n",
        "fileObj = open(TOS_file, 'r')\n",
        "text = fileObj.read()\n",
        "tokens = nltk.sent_tokenize(text)\n",
        "print(tokens)"
      ],
      "execution_count": 0,
      "outputs": [
        {
          "output_type": "stream",
          "text": [
            "[nltk_data] Downloading package punkt to /root/nltk_data...\n",
            "[nltk_data]   Package punkt is already up-to-date!\n",
            "['\\ufeffCHAPITRE I\\nDISPOSITIONS DÉCLARATOIRES ET INTERPRÉTATIVES .SECTION I .DISPOSITIONS DÉCLARATOIRES .Titre .Le présent règlement est intitulé « Règlement de permis et certificats ».', '.Territoire assujetti .Le présent règlement s’applique à l’ensemble du territoire de la Ville de Magog.', '.Règlements remplacés .Toute disposition incompatible avec le présent règlement contenue dans tous les règlements municipaux antérieurs est, par la présente, remplacée.', '.Sans restreindre la généralité du premier alinéa, le présent règlement remplace le règlement 1382 du territoire de l’ancienne Ville de Magog, le règlement 10-2002 du territoire de l’ancien Canton de Magog et le règlement no 2000-197 du territoire de l’ancien Village d’Omerville et leurs amendements.', '.SECTION II .DISPOSITIONS INTERPRÉTATIVES .Interprétation des tableaux .Les annexes, croquis, tableaux, diagrammes, graphiques, symboles et toutes formes d’expression autres que le texte proprement dit, contenus dans ce règlement ou auxquels il y est référé, en font partie intégrante à toutes fins que de droit.', '.En cas de contradiction entre le texte et les annexes, croquis, tableaux, diagrammes, graphiques, symboles et toutes autres formes d’expression, le texte prévaut.', '.Primauté des mots .Les expressions et mots utilisés dans ce règlement ont le sens que leur donne dans l’ordre de primauté suivant : .a) \\xa0le présent règlement .', '.b) \\xa0le règlement de zonage .', '.2327-2009 – Règlement permis et certificats 6 Ville de Magog .Version administrative Dernière mise à jour : 11 juillet 2019 .c) le règlement de lotissement .', '.d) \\xa0le règlement de construction .', '.e) \\xa0le règlement de condition d’émission du permis de construire .', '.f) \\xa0Le sens usuel des expressions ou mots utilisés.', '.Définitions .À moins que le contexte ne comporte un sens différent, on entend par : .« Certificat d’implantation » : Confirmation écrite de l’exécution de l’implantation, soit l’ensemble des opérations effectuées par l’arpenteur-géomètre dans le but de positionner au moyen de repères, à partir de points connus, le site exact d’une structure et d’un plan d’accompagnement délivrés par l’arpenteur-géomètre .', '.« Changement d’usage » : Modification d’un usage tel que défini, tant du côté du Règlement de zonage que celui du Règlement de construction (Règlement 2350-2010) .', '.« Plan projet d’implantation » : Plan à l’échelle montrant la position projetée du bâtiment sur le terrain faisant l’objet de la demande de permis .', '.« Réparation d’une construction » : Signifie le remplacement de certains éléments détériorés d’une construction par des éléments identiques, de même nature ou équivalents, et ayant pour effet la conservation ou l’entretien de ladite construction .', '.« Superficie brute totale des planchers » : La superficie totale de tous les étages au-dessus du niveau du sol, calculée entre les faces externes des murs extérieurs.', '.Système de mesure .Toutes les dimensions données dans le présent règlement sont indiquées selon le système international (SI).', '.2327-2009 – Règlement permis et certificats 7 Version administrative Ville de Magog Dernière mise à jour : 11 juillet 2019 .SECTION I .CHAPITRE II DISPOSITIONS ADMINISTRATIVES .APPLICATION DU RÈGLEMENT .Administration du règlement .La Direction de la planification et du développement du territoire de la Ville est chargée de l’administration du présent règlement.', '(Règlements 2428-2012 et 2728- 2019)) .Application .Les inspecteurs sont chargés de l’application de présent règlement.', '.Ils exercent les pouvoirs qui leurs sont confiés par la loi, les règlements, une résolution ou une décision administrative.', '.Obligations liées aux permis et certificats d’autorisation .Le propriétaire, l’occupant, le requérant ou l’exécutant de travaux ou de services a les obligations suivantes : (Règlement 2474-2013) .a) \\xa0avant d’amorcer les travaux relatifs à un permis de construction pour un bâtiment principal ou à un bâtiment accessoire sur fondations permanentes d’une superficie égale ou supérieure à 20 mètres carrés, fournir à l’inspecteur un certificat d’implantation, à l’exception : (Règlement 2514-2014) .i) \\xa0d’un agrandissement d’un bâtiment principal résidentiel situé à plus de 1 mètre de toutes marges minimales applicables.', '(Règlement 2474-2013 et 2514-2014) .ii) \\xa0d’un bâtiment accessoire sur fondations permanentes d’une superficie égale ou supérieure à 20 mètres carrés situé à plus de 1 mètre de toutes marges minimales applicables .', '(Règlement 2514-2014) .b) \\xa0avant le remblayage de toute excavation, communiquer avec les services des travaux publics afin de s’assurer que les raccordements au réseau public sont installés conformément au règlement applicable.', '.c) \\xa0dans un délai de 18 mois suivant l’émission du permis de construction ou d’agrandissement d’un bâtiment principal, remettre à l’inspecteur, un certificat de localisation préparé par un arpenteur-géomètre.', 'Le certificat de localisation doit localiser précisément l’entrée d’eau avec au moins deux cotes en rapport avec le bâtiment principal et le cas échéant, l’entrée de gaz.', '(Règlement 2474- 2013) .2327-2009 – Règlement permis et certificats 8 Version administrative Ville de Magog Dernière mise à jour : 11 juillet 2019 .Malgré ce qui précède : .i) \\xa0dans le cas d’une nouvelle construction seulement, le certificat de localisation doit montrer également les constructions, utilisations et ouvrages accessoires dans les cours.', '.ii) \\xa0un tel certificat de localisation n’est toutefois pas exigé lorsqu’il s’agit d’un agrandissement d’un bâtiment principal résidentiel et dont les fondations sont situées à plus de 1 mètre de toutes marges minimales applicable .', '(Règlement 2428-2012) .d) \\xa0sur le site, pour tous les travaux générant des résidus de matériaux de construction, avoir un conteneur de matériaux secs, une remorque ou tout autre équipement prévu pour disposer des résidus pendant la durée des travaux .', '(Règlement 2474-2013) .e) \\xa0s’assurer qu’aucun travail d’excavation ou autre ne soit entrepris, qu’il n’y ait aucune occupation en tout ou en partie sur le domaine public à moins qu’une autorisation expresse ne soit obtenue des services des travaux publics.', '.f) \\xa0respecter les conditions du permis ou certificat émis et le délai réglementaire.', '.g) \\xa0en aucun cas modifier ou s’écarter des conditions du permis ou certificat sans avoir obtenu au préalable l’autorisation écrite de l’inspecteur.', '.h) \\xa0informer l’inspecteur lorsque le permis est transféré d’un propriétaire à un autre.', '.i) \\xa0tenir disponibles les plans et devis approuvés par l’inspecteur auxquels s’applique le permis de construire le certificat d’autorisation à tout moment durant les heures de travail, sur les lieux des travaux.', '.j) \\xa0afficher le permis ou le certificat à un endroit bien visible de la rue sur les lieux des travaux pendant toute la durée de ces derniers.', '.k) \\xa0fournir des plans « tel que construits » à l’inspecteur à la fin des travaux lorsque des modifications importantes aux plans et devis originaux ont été apportées après l’émission du permis ou certificat.', '.l) \\xa0dans un délai de 12 mois suivant l’émission d’un certificat d’autorisation pour la construction d’un mur de soutènement dont la hauteur verticale hors-sol est égale ou supérieure à 1,5 mètre, remettre à l’inspecteur un rapport d’un ingénieur membre de l’Ordre des ingénieurs du Québec approuvant la structure et la résistance du mur.', '(Règlements 2428-2012 et 2474-2013) .2327-2009 – Règlement permis et certificats 9 Version administrative Ville de Magog Dernière mise à jour : 11 juillet 2019 .SECTION II .CONTRAVENTIONS ET SANCTIONS .11.', 'Infractions et peines .Quiconque contrevient à une disposition du présent règlement, maintien des travaux de construction effectués sans permis ou maintient un état de fait qui nécessite un certificat d’autorisation sans l’avoir obtenu, commet une infraction et est passible : (Règlement 2599-2016) .a) \\xa0lorsque le contrevenant est une personne physique : .i) \\xa0pour une première infraction, d’une amende de 200 $ à 1 000 $.', '.ii) \\xa0pour une récidive, d’une amende de 400 $ à 2 000 $ .', '.b) \\xa0lorsque le contrevenant est une personne morale : .i) \\xa0pour une première infraction, d’une amende de 500 $ à 2 000 $.', '.ii) \\xa0pour une récidive, d’une amende de 1 000 $ à 4 000 $.', '.Malgré ce qui précède, le propriétaire qui contrevient au présent règlement au sujet d’une piscine résidentielle, est passible d’une amende égale ou supérieure à 500$ et d’un maximum de 700$.', 'Ces montants sont respectivement portés à 700$ et 1 000$ en cas de récidive.', '(Règlement 2474-2013) .2327-2009 – Règlement permis et certificats 10 Version administrative Ville de Magog Dernière mise à jour : 11 juillet 2019 .SECTION I .CHAPITRE III PERMIS ET CERTIFICATS .MODALITÉS LIÉES AUX PERMIS ET CERTIFICATS .12.', \"Dispositions générales et règles d’interprétation (tableau I) .Le tableau I intitulé «Modalités liées aux différents permis et certificats d’autorisation » qui suit, énumère les différents projets ou travaux devant faire l'objet de l'émission d'un permis ou d’un certificat d'autorisation ainsi que les modalités s'y rapportant notamment la tarification, le délai d’émission, la caducité de même que le délai de réalisation des travaux.\", 'Le tableau indique également pour chaque type de projets ou travaux visés, l’article décrivant les documents requis devant accompagnés la demande.', \".Toute personne désirant procéder à des projets ou à des travaux énumérés au tableau I, doit au préalable obtenir de l'inspecteur, un permis ou un certificat d’autorisation à cet effet.\", 'Malgré ce qui précède, certains menus travaux et certaines enseignes ne sont pas soumis à l’obligation d’obtenir un certificat d’autorisation et sont énumérés respectivement aux articles 13 et 14.', '.La demande de permis ou de certificat d’autorisation doit être faite par écrit sur des formulaires fournis par la Ville et être accompagnée des documents prescrits dans la section II du présent chapitre.', '.Le tableau I concernant les modalités liées aux différents permis et certificats d’autorisation, s’interprète comme suit : .0.a) les deux premières lignes du tableau concernent des projets nécessitant l’obtention au préalable d’un permis tandis que toutes les autres lignes subséquentes du tableau concernent des projets nécessitant l’obtention au préalable d’un certificat d’autorisation (Règlement 2350-2010).', '.a) \\xa0la première colonne intitulée « obligation de permis ou certificat d’autorisation » liste les projets ou travaux nécessitant l’obtention, au préalable, d’un permis ou certificat d’autorisation sous réserve d’exception.', '.b) \\xa0la deuxième colonne concerne les documents requis devant accompagnés la demande .', 'le tableau réfère aux différents articles décrivant précisément les documents exigés et les informations pertinentes à fournir pour les travaux visés.', '.2327-2009 – Règlement permis et certificats 11 Version administrative Ville de Magog Dernière mise à jour : 11 juillet 2019 .c) la troisième colonne concerne la tarification .', 'le coût indiqué dans cette colonne varie en fonction des différents types de projets ou travaux.', 'L’évaluation des travaux servant à établir le coût, le cas échéant, ne comprend pas les taxes applicables.', '.d) \\xa0la quatrième colonne indique le délai d’émission du permis ou certificat d’autorisation.', 'l’inspecteur doit émettre ou refuser, le cas échéant, à l’intérieur de ce délai, le permis ou certificat d’autorisation demandé.', 'ce délai débute à compter de la date de réception de la demande dûment complétée.', '.e) \\xa0la cinquième colonne indique la caducité du permis ou certificat d’autorisation.', 'le permis ou certificat d’autorisation qui a été émis devient caduc si les projets ou travaux pour lesquels il a été émis ne sont pas commencés dans le délai prescrit dans cette colonne.', 'toutefois, dans le cas d’un permis de lotissement, ce permis devient caduc si le plan de l’opération cadastrale n’a pas été transmis pour dépôt au ministère des Ressources naturelles division du cadastre.', 'ce délai débute à compter de la date d’émission du permis ou certificat d’autorisation .', '.f) \\xa0la sixième colonne indique le délai de réalisation des projets ou travaux.', 'ces délais varient selon le type de projets ou de travaux.', 'une fois commencés, le détenteur du permis ou certificat d’autorisation doit compléter les projets ou les travaux prévus à l’intérieur du délai fixé.', 'ce délai débute à compter de la date d’émission du permis ou certificat d’autorisation.', '.2327-2009 – Règlement permis et certificats 12 Version administrative Ville de Magog Dernière mise à jour : 11 juillet 2019 .TABLEAU I : MODALITÉS LIÉES AUX DIFFÉRENTS PERMIS ET CERTIFICATS D’AUTORISATION .Obligation de permis ou certificat .Documents .Délai .Délai de .d’autorisation .requis .Tarification .d’émission .Caducité .réalisation ..LOTISSEMENT\\n(Règlements 2350-2010, 2428-2012, 2599- 2016 et 2709-2019) .', '(pour toute opération cadastrale) .Article 17 .Min.', '42 $ 22 $ / lot .', '(max 52 $ pour lotissement en copropriété) .2 mois .1 an .N/A ..1 an .', '(finition extérieure) .1,5 an .', '(terrassement, végétalisation et stationnement) .2 ans .', '(ensemble des travaux) ..CONSTRUCTION\\n(Règlements 2350-2010, 2428-2012, 2474- 2013, 2534-2015, 2599-2016 et 2709-2019) .', '(pour tous projets de construction, de transformation, d’agrandissement ou d’addition de bâtiments) .CHANGEMENT D’USAGE\\n(Règlements 2428-2012, 2514-2014, 2534- 2015, 2599-2016 et 2709-2019) .', '(incluant les commerces à domicile, y compris ceux s’exerçant dans un logement, les pensions de moins de neuf personnes, les familles d’accueil de moins de neuf personnes, les résidences d’accueil de moins de neuf personnes et les services de garde en milieu familial) .Article 18 .', '(général) .Article 19 .', '(projet d’ensemble) .27 $ .', '(pour le premier 10 000$ d’évaluation) .2,10 $ .', '(pour chaque tranche de 1 000$ d’évaluation supplémentaire) ..2 mois .6 mois .', '(début des travaux) ..Article 21 .', '(général) .Article 22 .', '(commerces à domicile) .Article 23 .', '(Pensions et résidences d’accueil) .52 $ .Gratuit (pour la fermeture d’un usage secondaire à l’intérieur du groupe habitation « HS ») ..2 mois .3 mois .1 an ..2327-2009 – Règlement permis et certificats 13 Version administrative Ville de Magog Dernière mise à jour : 11 juillet 2019 \\nObligation de permis ou certificat d’autorisation \\nDocuments requis \\nTarification \\nDélai d’émission \\nCaducité \\nDélai de réalisation \\nDÉPLACEMENT D’UNE CONSTRUCTION SUR UN AUTRE TERRAIN NÉCESSITANT UN TRANSPORT ROUTIER\\n(Règlements 2428-2012, 2599-2016 et 2709- 2019) .', '(exception maison unimodulaire, modulaire ou préfabriquée) \\nArticle 24 .', '52 $ \\n2 mois \\n3 mois \\n1 an \\nRÉPARATION D’UNE CONSTRUCTION (Règlements 2428-2012, 2599-2016 et 2709- 2019) .', '(ou des travaux de peinture visant à recouvrir le revêtement extérieur de bâtiments commerciaux par une autre couleur) .', '* Certains menus travaux ne sont pas soumis à l’obligation d’obtenir un certificat d’autorisation.', 'Référer à l’article 13 pour l’énumération de ces travaux.', '.', 'Article 25 .', '27 $ .', '(pour le premier 10 000$ d’évaluation) .2,10 $ .', '(pour chaque tranche de 1 000$ d’évaluation supplémentaire) \\n2 mois \\n3 mois \\n1 an \\nTRAVAUX SUR LA RIVE OU LE LITTORAL (Règlements 2428-2012, 2571-2016, 2599- 2016 et 2709-2019) .', '(travaux effectués sur la rive ou le littoral d’un cours d’eau ou d’un lac et comprend, entre autres, les plates- formes flottantes, quais privés, quais à emplacements multiples, marinas et les travaux de renaturalisation) .', '* Certains travaux ne sont pas soumis à l’obligation d’obtenir un certificat d’autorisation.', 'Référer à l’article 13 pour l’énumération de ces travaux.', '.', '.Article 26 \\n52 $ .Gratuit .', '(travaux de renaturalisation) \\n2 mois \\n6 mois \\n1 an \\n2327-2009 – Règlement permis et certificats 14 Version administrative Ville de Magog Dernière mise à jour : 11 juillet 2019 \\nObligation de permis ou certificat d’autorisation \\nDocuments requis \\nTarification \\nDélai d’émission \\nCaducité \\nDélai de réalisation \\nCONSTRUCTION, INSTALLATION ET MODIFICATION D’UNE ENSEIGNE .INSTALLATION D’UNE MURALE (fresque) .', '(Règlements 2428-2012, 2599-2016 et 2709- 2019) .', '* Certaines enseignes ne sont pas soumises à l’obligation d’obtenir un certificat d’autorisation.', 'Référer à l’article 14 pour l’énumération de ces enseignes.', '.', 'Article 27 .', '52 $ \\n2 mois \\n3 mois \\n1 an \\nAMÉNAGEMENT D’UN STATIONNEMENT DE PLUS DE CINQ CASES (Règlements 2514-2014, 2599-2016 et 2709-2019) \\nArticle 28 a) .', '52 $ \\n2 mois \\n3 mois \\n1 an \\nPISCINE (Installation et remplacement d’une piscine, érection d’une construction accessoire à une piscine telle les clôtures, plate-forme, etc.)', '(Règlements 2474-2013, 2599-2016 et 2709-2019) .CONSTRUCTION D’UN MUR DE SOUTÈNEMENT (uniquement les murs de .soutènement de plus de 1,5 m de hauteur) .', '(Règlements 2428-2012, 2514-2014 et 2599- 2016) \\nArticle 29 .', '27 $ \\n2 mois \\n3 mois \\n1 an (voir article 29) \\nABATTAGE D’ARBRES POUR FINS D’EXPLOITATION FORESTIÈRE\\n(abattage de plus de 10% des tiges de bois sur une superficie de 5 000 m2 ou plus par année) (Règlements 2428-2012, 2571-2016, 2599-2016 et 2709-2019) \\nArticle 30 .', '52 $ \\n2 mois \\n3 mois \\n2 ans \\n2327-2009 – Règlement permis et certificats 15 Version administrative Ville de Magog Dernière mise à jour : 11 juillet 2019 \\nObligation de permis ou certificat d’autorisation \\nDocuments requis \\nTarification \\nDélai d’émission \\nCaducité \\nDélai de réalisation \\nABATTAGE D’ARBRES POUR FINS .AUTRES QUE L’EXPLOITATION .FORESTIÈRE .', '(un ou plusieurs arbres pour un usage résidentiel, commercial, public, industriel) .', '* Certains travaux ne sont pas soumis à l’obligation d’obtenir un certificat d’autorisation.', 'Référer à l’article 13 pour l’énumération de ces travaux.', '(Règlements 2428-2012, 2474-2013, 2514-2014 et 2728- 2019) \\nArticle 30 .', 'Gratuit \\n2 mois \\n1 an \\n1 an \\nINSTALLATION SEPTIQUE\\n(Règlements 2571-2016, 2599-2016 et 2709- 2019) \\nArticle 31 .', '27 $ \\n2 mois \\n3 mois .', '(dans le cas d’un remplacement ou de la modification d’une installation septique existante) \\n1 an \\n\\n\\n\\n\\n6 mois .', '(dans le cadre d’un permis de construction d’un nouveau bâtiment) \\n1,5 an \\nAMÉNAGEMENT OU MODIFICATION D’UNE INSTALLATION DE PRÉLÈVEMENT D’EAU SOUTERRAINE OU DE SURFACE OU D’UN SYSTÈME DE GÉOTHERMIE .', '(Règlements 2534-2015, 2571-2016, 2599- 2016 et 2709-2019) \\nArticle 31 .', '27 $ \\n2 mois \\n3 mois .', '(dans le cas d’une modification ou d’un remplacement d’une installation de prélèvement d’eau) \\n1 an \\n\\n\\n\\n\\n6 mois .', '(dans le cadre d’un permis de construction d’un nouveau bâtiment) \\n1,5 an \\n2327-2009 – Règlement permis et certificats 16 Version administrative Ville de Magog Dernière mise à jour : 11 juillet 2019 \\nTRAVAUX DE REMANIEMENT DES SOLS SUR UNE AIRE DE PLUS DE 250 M2 .', '(uniquement pour des travaux autres que municipaux et à des fins agricoles, situés à moins de 30 m de tout cours d’eau, lac, milieu humide, fossé ou rue desservie par un égout pluvial ou combiné) .', '(Règlements 2350-2010, 2428-2012, 2599-2016 et 2709-2019) \\nArticle 33 .', '250 m2 à 1000 m2 27 $ .plus de 1000 m2 52 $ \\n2 mois \\n3 mois \\n1 an \\n2327-2009 – Règlement permis et certificats 17 Version administrative Ville de Magog Dernière mise à jour : 11 juillet 2019 \\nObligation de permis ou certificat d’autorisation \\nDocuments requis \\nTarification \\nDélai d’émission \\nCaducité \\nDélai de réalisation \\nTRAVAUX RELIÉS À L’ANCRAGE D’UNE TOUR DE COMMUNICATION (Règlement 2599-2016 et 2709-2019) \\nArticle 34 .', '52 $ \\n2 mois \\n3 mois \\n1 an \\nDÉMOLITION (Règlement 2350-2010) (bâtiment principal) \\nVoir Règlement administration de la Ville \\nVoir Règlement imposition et tarification \\nAprès la décision du conseil par résolution \\nSelon la résolution du conseil \\nSelon la résolution du conseil \\nDÉMOLITION (Règlements 2350-2010, 2599-2016 et 2709-2019) .', '(bâtiment principal dont l’état est tel qu’il peut mettre en danger des personnes ou lorsqu’il a perdu la moitié de sa valeur par vétusté, par incendie ou par explosion ainsi que bâtiment accessoire de plus de 20 mètres carrés) \\nArticle 35.1 .', '27 $ \\n1 mois \\n3 mois \\n6 mois \\n(Règlement 2534-2015) .2327-2009 – Règlement permis et certificats 18 Version administrative Ville de Magog Dernière mise à jour : 11 juillet 2019 .13.', 'Travaux non soumis à l’obligation d’obtenir un certificat d’autorisation .Certains travaux d’entretien et de rénovation d’un immeuble ne sont pas soumis à l’obligation de se procurer un certificat d’autorisation pourvu que les fondations, les cloisons et la charpente ne soient pas modifiées ou que l’aire de plancher et le volume ne soient pas augmentés.', '(Règlement 2534-2015) .Tous les travaux bénéficiant d’une exemption d’obtenir un certificat d’autorisation ne sont pas soustraits de l’obligation de se conformer aux différentes dispositions règlementaires applicables.', '(Règlement 2534-2015) .Les travaux non soumis à l’obligation d’obtenir un certificat d’autorisation sont les suivants : .a) \\xa0l’ajout ou le remplacement des matériaux de recouvrement de la toiture, pourvu que les matériaux utilisés soient identiques ou similaires à ceux existants ou qu’ils soient autorisés au règlement de zonage.', 'S’il y a changement de matériau et que les travaux sont assujettis à l’approbation d’un plan d’implantation et d’intégration architecturale, un permis doit être émis.', '(Règlement 2534-2015) .b) \\xa0les travaux de peinture à l’exception d’un bâtiment utilisé complètement ou partiellement à des fins commerciales ou s’il y a un changement de couleur extérieure et que ces travaux sont assujettis à l’approbation d’un plan d’implantation et d’intégration architecturale.', '(Règlement 2534-2015) .c) \\xa0l’installation ou le remplacement des gouttières.', '.d) \\xa0la réparation des joints de mortier.', '.e) \\xa0la construction ou le remplacement des étagères et des armoires de cuisine ou de salle de bain.', '.f) \\xa0le remplacement ou l’ajout d’un nouveau revêtement de plancher ou de boiseries.', '(Règlement 2534-2015) .g) \\xa0la réparation ou le remplacement des équipements ou d’une installation électrique.', '.h) \\xa0la réparation ou le remplacement des équipements ou d’une installation de plomberie incluant les accessoires de cuisine et de salle de bain, à la condition que l’installation septique ne soit pas modifiée.', '.i) \\xa0la réparation ou le remplacement d’une installation de chauffage.', '.j) \\xa0l’ajout ou le remplacement d’une installation de ventilation mécanique, pourvu qu’elle soit au moins équivalente à celle existante.', '.2327-2009 – Règlement permis et certificats 19 Version administrative Ville de Magog Dernière mise à jour : 11 juillet 2019 .k) \\xa0la mise en place d’une traverse de cours d’eau déposée sur la rive, d’une largeur maximale de 2,0 mètres, n’empiétant pas sur le littoral .', '(Règlement 2428-2012) .l) \\xa0à l’extérieur du périmètre d’urbanisation, l’abattage d’arbres visant à prélever uniformément moins de 10 % des tiges sur une superficie de 5 000 mètres carrés ou plus par année .', '(Règlements 2428-2012, 2474-2013 et 2514-2014) .m) \\xa0l’abattage d’arbres pour des fins municipales .', '(Règlement 2514-2014) .n) \\xa0l’abattage d’arbres à l’intérieur des emprises de propriété ou de servitudes acquises pour l’entretien des équipements et infrastructures de transport d’énergie et de télécommunications .', '(Règlement 2514-2014) .o) \\xa0le contrôle de la végétation en rive selon des méthodes reconnues dans le but d’assurer la survie des plantations conformes à la règlementation à l’exception de l’entretien des arbres.', '(Règlement 2514-2014) .p) \\xa0la construction, la réparation ou l’agrandissement (pourvu que la superficie totale du bâtiment ne dépasse pas 20 m2) d’un bâtiment accessoire d’une superficie de moins de 20 m2.', '(Règlement 2534-2015) .q) \\xa0le remplacement des ouvertures d’une superficie équivalente sauf pour celles d’une chambre à coucher et celles assujetties au règlement sur les plans d’implantation et d’intégration architecturale .', '(Règlement 2534-2015) .r) \\xa0l’élagage d’un arbre dans la rive lorsqu’il est malade ou dangereux.', '.', '(Règlement 2534-2015) .s) \\xa0les constructions, les ouvrages et les travaux pour fins municipales, commerciales, publiques ou pour fins d’accès publics, dûment soumis à une autorisation en vertu de la Loi sur la qualité de l’environnement (L.R.Q.c.C.q- 2) sauf pour les travaux assujettis à un plan d’implantation et d’intégration architecturale ou dans le cadre d’un projet particulier de construction, de modification ou d’occupation d’un immeuble.', '(Règlement 2534-2015) .Retour au tableau I .14.', 'Enseignes non soumises à l’obligation d’obtenir un certificat d’autorisation .Certaines enseignes ne sont pas soumises à l’obligation de se procurer un certificat d’autorisation.', '.Ces enseignes bénéficiant d’une exemption d’obtenir un certificat d’autorisation ne sont pas soustraites de l’obligation de se conformer aux différentes dispositions règlementaires applicables.', '.2327-2009 – Règlement permis et certificats 20 Version administrative Ville de Magog Dernière mise à jour : 11 juillet 2019 ..Les enseignes non soumises à l’obligation d’obtenir un certificat d’autorisation sont les suivantes : .a) \\xa0un poteau de barbier.', '.b) \\xa0les enseignes émanant d’une autorité publique et ayant trait à la circulation automobile, piétonnière, cyclable, ferroviaire ou nautique ou informant la population (ex.', ': information touristique, classification des établissements (étoiles, fourchettes, soleil etc.)).', '.c) \\xa0les enseignes d’identification d’au plus 0,4 mètre carré.', '.d) \\xa0les plaques commémoratives ou les inscriptions historiques portant le nom d’un bâtiment ou l’année de construction d’au plus 0,4 mètre carré.', '.e) \\xa0les plaques professionnelles et les plaques d’affaires d’au plus 0,4 mètre carré non éclairées et posées à plat sur un bâtiment, en saillie d’au plus 10 centimètres.', '.f) \\xa0les enseignes indiquant une reconnaissance d’un organisme reconnu pour la qualité de sa production ou de ces méthodes de production (ex.', ': ISO9000).', '.g) \\xa0les enseignes non éclairées d’au plus 0,4 mètre carré posées à plat sur un bâtiment et en saillie d’au plus 10 centimètres annonçant une mise en location ou une vente d’un immeuble ou d’un local de cet immeuble.', '.h) \\xa0les enseignes sur poteau non éclairées et d’au plus 1 mètre carré annonçant la vente ou la location d’un terrain, d’un immeuble ou d’un local de cet immeuble.', '.i) \\xa0les drapeaux, les fanions, les emblèmes d’un organisme politique, civique, philanthropique, éducatif ou religieux.', '.j) \\xa0les enseignes identifiant un service public tel (téléphone, poste) d’au plus 0,4 mètre carré.', '.k) \\xa0les placards publicitaires et toute enseigne de type bannière ou banderoles installés du côté intérieur des ouvertures (vitrine, porte, fenêtre, etc.)', 'd’un établissement.', '(Règlement 2514-2014) .l) \\xa0les panneaux de signalisation d’au plus 0,4 mètre carré sur lesquels l’identification de l’établissement ou du lieu occupe moins de 20% de la superficie du panneau.', '.m) \\xa0les enseignes placées à l’intérieur d’un bâtiment autre que celle utilisant la surface vitrée comme support .', '(Règlement 2474-2013) .2327-2009 – Règlement permis et certificats 21 Version administrative Ville de Magog Dernière mise à jour : 11 juillet 2019 .n) \\xa0les babillards d’au plus 0,4 m2 .', '.o) \\xa0les enseignes de type bannières ou banderoles ou de type placards cartonnées ou affiches annonçant un événement ou une activité .', '.p) \\xa0les enseignes de type bannière, banderole, placard cartonné ou affiche pour un commerce temporaire pourvu que celles-ci n’aient pas une superficie supérieure à 1,8 mètre carré .', '.q) \\xa0tout type d’enseigne situé à l’intérieur de l’emprise d’une rue publique pourvu que l’enseigne soit autorisée par la Ville .', '.r) \\xa0les enseignes d’accompagnement .', '.s) \\xa0les enseignes de projet.', '(Règlement 2534-2015) .', '(Règlement 2428-2012) .Retour au tableau I .15.', \"Conditions d’émission .L'inspecteur émet le permis ou le certificat d’autorisation si : .a) \\xa0la demande est conforme aux normes applicables contenues dans les règlements d’urbanisme s’y rapportant (zonage, lotissement, construction, condition d’émission du permis de construire, usages conditionnels, plans d’implantation et d’intégration architecturale et projet particulier de construction, de modification ou d’occupation d’un immeuble) ou si tel n’est pas le cas, le permis ou certificat d’autorisation a fait l’objet d’une dérogation mineure accordée par le conseil.\", '.b) \\xa0la demande est accompagnée de tous les plans et documents exigés par les règlements applicables ou par la loi.', '.c) \\xa0la demande, le cas échéant, a fait l’objet d’une recommandation du comité consultatif d’urbanisme (CCU) et est accompagnée d’une résolution du conseil municipal.', '.d) \\xa0le tarif pour l’obtention du permis a été payé.', '.2327-2009 – Règlement permis et certificats 22 Version administrative Ville de Magog Dernière mise à jour : 11 juillet 2019 ..SECTION II .DOCUMENTS D’ACCOMPAGNEMENT .Dispositions générales .Pour être traitées, les demandes de permis et de certificats doivent être accompagnées : .a) \\xa0des documents spécifiques prescrits dans les articles suivants selon la nature des différents travaux, ouvrages ou activités.', '.b) \\xa0du paiement du tarif applicable, établi dans le Tableau I et non remboursable.', '.', '(Règlement 2534-2015) .Tous les documents d’accompagnement exigés doivent être fournis en deux copies.', '.Permis de lotissement .La demande de permis de lotissement doit être accompagnée : .a) \\xa0d’un plan du projet de l’opération cadastrale préparé par un arpenteur- géomètre à une échelle d’au moins 1 : 1 00 .', '.b) \\xa0d’un plan global du projet en deux copies, préparé par un arpenteur-géomètre à l’échelle montrant : .i) \\xa0les lignes de lots existantes.', '.ii) \\xa0les lignes de lot proposées et leurs dimensions approximatives.', '.iii) \\xa0le nord.', '.iv) \\xa0la superficie de terrain allouée pour chaque lot (rue, habitation, institution, etc.)', 'et le pourcentage que représente ces superficies par rapport à l’aire totale du terrain faisant l’objet du lotissement proposé.', '.v) \\xa0le relief du sol exprimé par des lignes d’altitude d’au moins 2,5 mètres d’intervalle.', '.vi) \\xa0les cours d’eau et les milieux humides.', '.vii) \\xa0les constructions existantes sises sur ou en périphérie du ou des terrains faisant l’objet du lotissement proposé.', '.viii) \\xa0les terrains limitrophes ou terrains faisant l’objet du projet et appartenant au même propriétaire, que tous ces terrains fassent partie ou non du projet.', '.2327-2009 – Règlement permis et certificats 23 Version administrative Ville de Magog Dernière mise à jour : 11 juillet 2019 .ix) \\xa0l’emplacement approximatif des services publics existants.', '.x) \\xa0les servitudes grevant déjà l’immeuble visé par la demande de lotissement .', '.xi) \\xa0l’espace réservé pour les parcs et terrains de jeux, la superficie de cet espace et le pourcentage que représente cette superficie par rapport à l’aire totale du terrain faisant l’objet du lotissement proposé.', '.xii) \\xa0la date et la signature du requérant ou mandataire.', '.xiii) \\xa0l’usage pour lequel le ou les lots est ou sont destiné(s).', '.c) lorsque les plans demandés aux paragraphes a) et b) comprennent des rues .projetées ou un projet d’ensemble : (Règlement 2474-2013) .i) \\xa0ces plans doivent montrer le tracé et l’emprise des rues proposés, leur .pente de même que le tracé des rues existantes .', '.ii) \\xa0ces plans doivent montrer l’assiette des servitudes requises pour l’installation des services publics tels l’électricité, le câble, le téléphone, l’aqueduc et l’égout, le gaz.', '.iii) \\xa0ces plans doivent montrer les milieux humides et les cours d’eau .', '.iv) \\xa0ces plans doivent être accompagnés des documents suivants : .- \\xa0une caractérisation environnementale du site et une évaluation du potentiel de présence d’espèces floristiques et fauniques désignées rares ou menacées.', 'le tout comme il est exigé par les Services techniques de la Ville de Magog dans le cadre de l’évaluation des projets de développements domiciliaires avant d’entreprendre les démarches d’ouverture de rue.', 'cette caractérisation environnementale et cette évaluation du potentiel de présence d’espèces rares ou menacées doivent être réalisées par des experts en la matière et doivent attester qu’elles remplissent les conditions requises pour l’obtention d’un certificat d’autorisation (CA) du Ministère du développement durable, de l’environnement et des parcs (MDDEP) par la Ville.', '.- \\xa0une promesse pure et simple de céder gratuitement à la ville l’assiette des rues prévues au plan, le cas échéant, franc et quitte quand bon semblera à la ville.', '.- \\xa0la résolution du conseil approuvant le projet .', '(Règlement 2474- 2013) .2327-2009 – Règlement permis et certificats 24 Version administrative Ville de Magog Dernière mise à jour : 11 juillet 2019 .d) \\xa0d’un document attestant, le cas échéant, que le terrain bénéficie d’un privilège en vertu de la Loi sur l’aménagement et l’urbanisme (art.', '256.1, 256.2, 256.3), selon le cas applicable .', '.e) \\xa0de tout document indiquant les mesures à prendre afin de respecter le schéma de couverture de risques en sécurité incendie applicable.', '(Règlement 2350-2010) .Retour au tableau I .18.', 'Permis de construire .Toute demande de permis de construire doit contenir ces informations : .a) \\xa0la date .', '.b) \\xa0les noms, prénoms et adresse du requérant et, le cas échéant, de son mandataire .', '.c) \\xa0le calendrier de réalisation des travaux .', '.d) \\xa0le coût des travaux projetés .', '.e) \\xa0la signature du propriétaire du bâtiment visé par les travaux ou de son représentant autorisé.', '.', '(Règlement 2428-2012) .La demande de permis de construire doit aussi être accompagnée des documents suivants : (Règlement 2428-2012) .a) \\xa0le plan cadastral du terrain sur lequel est projetée la construction montrant les servitudes grevant ce terrain le cas échéant.', '.b) \\xa0un plan-projet d’implantation ou croquis à l’échelle indiquant le site, les dimensions, la forme, la superficie, les niveaux du lot avant et après la construction des bâtiments à ériger ainsi que tout autre détail requis afin de vérifier la conformité du projet avec le règlement de zonage, le règlement de construction et toute autre norme applicable.', '(Règlement 2474-2013 et 2534- 2015) .Dans le cas d’un bâtiment principal ou d’un bâtiment accessoire sur fondations permanentes d’une superficie égale ou supérieure à 20 mètres carrés, ce plan- projet d’implantation doit être réalisé par un arpenteur-géomètre, à l’exception : (Règlement 2514-2014) .i) d’un agrandissement d’un bâtiment principal résidentiel situé à plus de 1 mètre de toutes marges minimales applicables .', '(Règlement 2514- 2014) .2327-2009 – Règlement permis et certificats 25 Version administrative Ville de Magog Dernière mise à jour : 11 juillet 2019 ..ii) d’un bâtiment accessoire sur fondations permanentes d’une superficie égale ou supérieure à 20 mètres carrés situé A plus de 1 mètre de toutes marges minimales applicables.', '(Règlement 2514-2014) .c) pour les bâtiments assujettis à la Loi sur les architectes (L.R.Q., c.A-21), des plans scellés et signés par un membre de l’ordre conformément à cette Loi.', 'Les plans doivent comporter une attestation à l’effet qu’ils sont conformes aux Codes applicables selon le règlement de construction.', 'Dans tous les cas, cette attestation doit apparaître sur les plans et porter la signature requise.', '.Pour tous autres bâtiments sauf les bâtiments accessoires à des fins résidentielles et les bâtiments agricoles de moins de 100 mètres carrés, des plans, des élévations, des coupes, des croquis et des devis sont requis pour une compréhension claire du projet.', '(Règlement 2428-2012) .Pour tous les cas, les plans et devis doivent indiquer tous les détails requis par les règlements municipaux de même que les usages du bâtiment et ceux du terrain.', 'Ils doivent indiquer entre autres le niveau du plancher de cave ou du sous-sol.', '.d) \\xa0un plan d’aménagement à l’échelle du terrain de stationnement pour les usages commerciaux, institutionnels, industriels et les résidences multifamiliales, avec les informations suivantes (Règlement 2534-2015) : .i) \\xa0le nombre d’espaces de stationnement et les informations nécessaires pour vérifier si les normes sont respectées.', '.ii) \\xa0la forme et les dimensions des espaces de stationnement (stalles) et des allées d’accès.', '.iii) \\xa0l’emplacement des entrées et des sorties.', '.iv) \\xa0le système de drainage de surface.', '.v) \\xa0le dessin et l’emplacement des enseignes de signalisation, des clôtures et bordures, si requises.', '.vi) \\xa0l’emplacement des bacs ou conteneurs à déchets et l’aménagement paysager ou le traitement architectural prévu au pourtour de l’emplacement de ces équipements.', '.Pour les autres usages, un plan à l’échelle montrant la forme, la localisation et le nombre d’espaces de stationnement et l’emplacement des bacs à déchets ainsi que l’aménagement paysager ou le traitement architectural prévu au pourtour de l’emplacement de ces bacs .', '.e) \\xa0lorsqu’un quai de chargement et déchargement est projeté, un plan d’aménagement à l’échelle du terrain montrant le quai de chargement et .2327-2009 – Règlement permis et certificats 26 Version administrative Ville de Magog Dernière mise à jour : 11 juillet 2019 .déchargement, les voies d’accès et indiquant les rayons de courbures et les manœuvres des véhicules de livraison le tout signé par un ingénieur (Règlement 2534-2015) .', '.f) \\xa0dans le cas d’une construction autre qu’un bâtiment accessoire sans fondation continue ou permanente, dans les zones d’inondation identifiées au règlement de zonage, la demande doit être accompagnée d’une attestation donnée par un membre de l’Ordre des ingénieurs du Québec ou l’Ordre des architectes du Québec ou tout autre professionnel habilité par les Lois, à l’effet que les structures ou parties de structures sous le niveau d’inondation applicable sont aptes quant à leur imperméabilisation, la stabilité des structures, l’armature, la résistance nécessaire du béton à la compression et à la tension pouvant s’exercer lors d’une inondation ainsi que la capacité de pompage nécessaire pour évacuer les eaux d’infiltration .', '.g) \\xa0un plan de gestion de l’eau de toiture pour les bâtiments ayant une superficie égale ou supérieure à 300 mètres carrés.', '.h) \\xa0en plus des documents requis exigés dans l’alinéa et les paragraphes qui précèdent, lorsqu’une demande de permis de construire est formulée dans une zone verte décrétée en vertu de la Loi sur la protection du territoire et des activités agricoles (LPTAA), la municipalité exige que l’exploitant agricole comme définie dans la LPTAA (article 79.2.4) situé au voisinage de l’immeuble faisant l’objet de la demande de permis, lui transmettre tous les renseignements nécessaires à l’application des sous-sections 1.1 et 1.2 de la section II du chapitre III de la LPTAA et à l’application des normes relatives aux distances séparatrices édictées au règlement de zonage de la municipalité, par écrit et dans un délai de 15 jours de sa signification.', '.À défaut par l’exploitant de transmettre ces renseignements dans le délai fixé, la municipalité peut, aux frais de cet exploitant, recueillir tout renseignement nécessaire à l’application des dispositions de la LPTAA et du règlement de zonage.', 'L’inspecteur peut s’adjoindre les services d’un professionnel ou technologue comme le prévoit le présent règlement .', '.i) \\xa0abrogé .', '(Règlement 2534-2015) .j) \\xa0pour un bâtiment situé à plus de 45 mètres d’une voie d’accès dégagée (en lien avec le Code de construction), un plan à l’échelle montrant le chemin ou la cour servant de voie d’accès desservant ce bâtiment et comprenant les informations suivantes : la largeur libre, les rayons de courbure, les pentes, l’aire de virage et toute autre information pertinente nécessaire pour vérifier le respect des exigences du Règlement sur la prévention des incendies.', '(Règlement 2350-2010) .k) \\xa0pour les bâtiments non desservis par le réseau d’aqueduc et où l’installation d’une borne-fontaine sèche est exigée, le calcul du volume d’eau minimal .2327-2009 – Règlement permis et certificats 27 Version administrative Ville de Magog Dernière mise à jour : 11 juillet 2019 .requis pour assurer la protection incendie selon les normes en vigueur.', '.', '(Règlement 2428-2012) .Retour au tableau I .19.', 'Projet d’ensemble (Règlement 2534-2015)\\nPour tout projet d’ensemble, le requérant doit soumettre (Règlement 2534-2015) : .a) \\xa0un plan d’ensemble montrant : .i) \\xa0les dimensions, la forme et la superficie du terrain.', '.ii) \\xa0la forme, la dimension et la localisation des bâtiments ainsi que le nombre d’étages.', '.iii) \\xa0le nombre de logements par bâtiment, la localisation et le nombre d’espaces de stationnement, gaz, câble.', '.iv) \\xa0la localisation approximative des services d’aqueduc, d’égout, d’électricité et de téléphone.', '.v) \\xa0les niveaux des bâtiments et du terrain, ainsi que le mode de drainage du terrain et des espaces de stationnement.', '.vi) \\xa0les servitudes à prévoir, sujettes à l’approbation du conseil.', '.b) \\xa0les documents suivants : .i) \\xa0la description des servitudes perpétuelles et les droits de passages nécessaires aux divers bâtiments faisant l’objet du projet d’ensemble.', '.ii) \\xa0copie des actes de servitude enregistrés ou des ententes signées.', '.iii) \\xa0un tableau synthèse expliquant la nature et l’ampleur des usages projetés à partir des données touchant le nombre de bâtiments, la hauteur des bâtiments, la superficie totale de plancher des bâtiments, le nombre de logements, la superficie occupée par les aires d’agrément, les infrastructures publiques et les usages privés et toute autre information similaire jugée pertinente selon le projet soumis.', '(Règlement 2534- 2015) .iv) \\xa0les plans d’architecture des bâtiments préparés incluant les coupes et élévations, le traitement de la structure et des façades et la répartition des usages dans les bâtiments.', '.2327-2009 – Règlement permis et certificats 28 Version administrative Ville de Magog Dernière mise à jour : 11 juillet 2019 ..v) les plans d’aménagement paysager indiquant la nature des espaces, des équipements, du mobilier et de l’éclairage, la localisation et l’essence des arbres et arbustes, le nivellement et le revêtement.', '.Retour au tableau I .Abrogé (Règlement 2534-2015) .Changement d’usage (Règlement 2534-2015) .La personne qui désire faire une demande de certificat d’autorisation pour le changement d’usage doit soumettre les informations et les documents suivants (Règlement 2534-2015): .a) \\xa0l’identification précise de l’utilisation de l’immeuble actuelle et de l’utilisation proposée après le changement d’usage (Règlement 2534-2015).', '.b) \\xa0pour un changement d’utilisation du sol, fournir également un plan à l’échelle montrant (Règlement 2534-2015): .i) \\xa0la limite du terrain visé.', '.ii) \\xa0son identification cadastrale.', '.iii) \\xa0la localisation de la nouvelle utilisation du sol sur l’ensemble du lot ou des lots utilisés (Règlement 2534-2015) .', '.iv) \\xa0la projection au sol du ou des bâtiments existants sur le terrain ou le lot sur lequel est projetée la nouvelle utilisation du sol.', '.v) \\xa0la ligne ou les lignes de rue ou chemin.', '.vi) \\xa0la localisation de tout lac ou cours d’eau situé sur le terrain ou sur les lots ou terrains contigus au terrain faisant l’objet de la demande.', '.vii) \\xa0la localisation des boisés existants sur le terrain et la topographie naturelle dans le cas des terrains situés en bordure d’un lac ou d’un cours d’eau.', '.viii) \\xa0un plan à l’échelle pour les stationnements et l’emplacement des bacs ou conteneurs à déchets comme exigé pour une demande de permis de construire.', '.ix) \\xa0les détails requis pour assurer la bonne compréhension des travaux.', '.Retour au tableau I .2327-2009 – Règlement permis et certificats 29 Version administrative Ville de Magog Dernière mise à jour : 11 juillet 2019 ..Commerces à domicile .La personne qui désire faire une demande de certificat d’autorisation pour un commerce à domicile doit soumettre les informations et documents suivants : .a) \\xa0l’identification du demandeur : nom, prénom et adresse du ou des propriétaires ou locataires, de même que la raison sociale de l’établissement et son numéro d’enregistrement ainsi que les noms des répondants dûment autorisés.', '.b) \\xa0l’identification précise de l’utilisation de l’immeuble actuelle et proposée après le changement d’usage ou de destination de l’immeuble visé.', '.c) \\xa0un plan à l’échelle montrant : .i) \\xa0le logement et sa superficie.', '.ii) \\xa0la localisation du local affecté à l’établissement commercial à domicile et sa superficie.', '.Retour au tableau I .Pensions, familles et résidences d’accueil de moins de neuf personnes et services de garde en milieu familial (Règlement 2428-2012) .La personne qui désire faire une demande de certificat d’autorisation pour les pensions de moins de neuf personnes, les familles d’accueil de moins de neuf personnes, les résidences d’accueil de moins de neuf personnes et les garderies en milieu familial doit soumettre les informations et documents suivants : .a) \\xa0l’identification du demandeur : nom, prénom et adresse du ou des propriétaires ou locataires, ainsi que le nom des deux principaux répondants.', '.b) \\xa0un plan à l’échelle montrant : .i) \\xa0le logement et sa superficie.', '.ii) \\xa0la localisation de la pièce affectée.', '.iii) \\xa0la localisation où sera affiché le certificat d’autorisation.', '.Retour au tableau I .2327-2009 – Règlement permis et certificats 30 Version administrative Ville de Magog Dernière mise à jour : 11 juillet 2019 ..24.', 'Déplacement d’une construction .La personne qui désire faire une demande de certificat d’autorisation pour le déplacement d’une construction doit soumettre les informations et les documents suivants : .a) \\xa0l’identification précise de l’utilisation du sol actuelle et proposée après le déplacement de la construction visée.', '.b) \\xa0un plan à l’échelle montrant (Règlement 2534-2015) : .i) \\xa0la limite du terrain visé.', '.ii) \\xa0son identification cadastrale.', '.iii) \\xa0la projection au sol ou des bâtiments déjà construits sur le terrain visé et l’identification de celui devant faire l’objet du déplacement.', '.c) \\xa0la date à laquelle le déplacement doit avoir lieu.', '.d) \\xa0pour une arrivée : .i) \\xa0un permis de construire émis par la Ville.', '.ii) \\xa0un projet d’itinéraire à suivre lors du déplacement approuvé par les Services de police et d’électricité, à l’exception d’une maison préfabriquée à l’usine et d’une maison unimodulaire.', '(Règlement 2428-2012) .e) \\xa0pour un départ : .i) \\xa0un projet d’itinéraire à suivre lors du déplacement approuvé par les Services de police et d’électricité, à l’exception d’une maison préfabriquée à l’usine et d’une maison unimodulaire.', '(Règlement 2428-2012) .ii) \\xa0la description de l’utilisation (réutilisation ou désaffection) de l’installation septique en place, le cas échéant .', '(Règlement 2534-2015) .f) \\xa0les pièces justificatives attestant que le requérant a pris des ententes formelles avec les compagnies d’utilités publiques pour la date du déplacement inscrite sur la demande du certificat.', '.g) une preuve d’assurance responsabilité.', '.Retour au tableau I .2327-2009 – Règlement permis et certificats 31 Ville de Magog .Version administrative Dernière mise à jour : 11 juillet 2019 ..25.', 'Réparation d’une construction ou travaux de peinture du revêtement extérieur pour des bâtiments commerciaux .La personne qui désire faire une demande de certificat d’autorisation pour la réparation d’une construction, cela comprend également le remplacement d’égout sanitaire ou d’égout pluvial ou les travaux de peinture du revêtement extérieur visant à changer la couleur pour des bâtiments commerciaux, doit soumettre les informations et les documents suivants : .a) \\xa0pour une réparation d’une construction : .i) \\xa0un plan ou croquis indiquant le site, les dimensions, la nature des réparations visées par la demande ainsi que les plans, élévations, coupes, croquis et devis indiquant tous les détails requis par le règlement de construction et, le cas échéant, le règlement sur le branchement des égouts, de même que les usages des bâtiments et ceux du terrain.', '.ii) \\xa0une évaluation du coût des travaux prévus.', '.b) \\xa0pour des travaux de peinture visant à changer la couleur du revêtement .extérieur pour des bâtiments commerciaux (Règlement 2534-2015) : .i) le bâtiment visé, l’adresse complète, la couleur existante et la couleur .proposée avec échantillon.', '.Retour au tableau I .26.', 'Travaux effectués sur la rive des lacs et des cours d’eau et sur le littoral .La personne qui désire faire une demande de certificat d’autorisation pour effectuer des travaux sur la rive ou le littoral doit soumettre les informations et les documents suivants : .a) Dans tous les cas, un plan à l’échelle montrant (Règlements 2534-2015 et 2709-2019) : .i) \\xa0la limite du terrain visé.', '.ii) \\xa0son identification cadastrale.', '.iii) \\xa0la localisation de la partie de terrain devant être affectée par les ouvrages projetés et les zones boisées sur le terrain .', '(Règlement 2709-2019) .iv) \\xa0la délimitation de la ligne des hautes eaux et des milieux humides, le cas échéant, par un spécialiste reconnu en environnement ainsi que les fichiers de formes (shapefiles).', '(Règlement 2709-2019) .v) \\xa0le profil du terrain avant et après la réalisation des ouvrages projetés.', '.2327-2009 – Règlement permis et certificats 32 Version administrative Ville de Magog Dernière mise à jour : 11 juillet 2019 ..vi) la largeur de la rivière vis-à-vis la propriété, le cas échéant.', '.x) tous les détails requis pour assurer la bonne compréhension des travaux projetés et permettant de vérifier la conformité aux normes établies par le règlement de zonage.', '.b) \\xa0une attestation de la Garde côtière canadienne venant de la Direction des programmes maritimes, protection des eaux de navigation certifiant que le chenal de la rivière Magog n’est pas obstrué par les aménagements projetés sur le littoral, le cas échéant .', '(Règlement 2709-2019) .c) \\xa0pour les travaux de renaturalisation de la rive, le demandeur doit déposer un plan particulier de renaturalisation produit par un spécialiste du domaine accompagné d’un calendrier de réalisation.', '(Règlement 2709-2019) .d) \\xa0pour tous les travaux nécessitant une stabilisation de la rive tels que la stabilisation par génie végétal, l’implantation d’un couvert végétal avec enrochement (perré avec végétation), l’implantation d’un perré sans végétation, l’implantation de gabions avec couvert végétal et, finalement, l’installation d’un muret ou mur, le demandeur doit fournir des plans et devis signés et scellés par un ingénieur membre de l’Ordre des ingénieurs du Québec et les mesures de contrôle de l’érosion.', '(Règlements 2474-2013 et 2709-2019) .e) \\xa0pour l’installation d’une borne sèche servant à la protection des incendies, le demandeur doit fournir des plans et devis signés et scellés par un ingénieur membre de l’Ordre des ingénieurs du Québec incluant la stabilisation requise aux fins des travaux et les mesures de contrôle de l’érosion.', '.f) \\xa0pour la réalisation d’un pont, d’un ponceau ou d’une traverse de cours d’eau exigeant un certificat d’autorisation, le demandeur doit fournir des plans et devis signés et scellés par un ingénieur membre de l’Ordre des ingénieurs du Québec en plus des informations suivantes: .i) \\xa0l’étude hydraulique réalisée par l’ingénieur.', '.ii) \\xa0les dimensions de l’ouvrage en fonction de la récurrence demandée.', '.iii) \\xa0la description détaillée des travaux à réaliser incluant la stabilisation de la rive et les mesures de contrôle de l’érosion.', '.iv) \\xa0tout autre document pour la bonne compréhension des travaux.', '.', '(Règlement 2709-2019) .2327-2009 – Règlement permis et certificats 33 Version administrative Ville de Magog Dernière mise à jour : 11 juillet 2019 .g) \\xa0pour tous ouvrages nécessitant un permis d’occupation du Centre d’expertise hydrique du Québec (CEHQ), le permis d’occupation ou accusé de réception du CEHQ attestant le dépôt de la demande est requis.', '(Règlement 2709-2018) .h) \\xa0pour tous ouvrages nécessitant un permis d’occupation du Centre d’expertise hydrique du Québec (CEHQ), le permis d’occupation ou accusé de réception du CEHQ attestant le dépôt de la demande est requis.', '(Règlement 2709-2018) .i) \\xa0pour les travaux de contrôle des espèces végétales exotiques nuisibles (EVEN), les informations suivantes doivent être déposées : .i) \\xa0l’identification de l’EVEN et la description de la colonie.', '.ii) \\xa0la description de la méthode de contrôle.', '.iii) \\xa0le calendrier des travaux.', '.iv) \\xa0la méthode d’élimination des résidus selon les méthodes reconnues pour chaque EVEN .', '.v) \\xa0les mesures de revégétalisation du site.', '.vi) \\xa0la planification du suivi post-travaux.', '.', '(Règlements 2350-2010, 2428-2012, 2599-2016 et 2709-2019) .Retour au tableau I .27.', 'Construction, installation et modification d’une enseigne et installation d’une murale (fresque) .La personne qui désire faire une demande de certificat d’autorisation pour la construction, l’installation ou la modification d’une enseigne et d’une murale (fresque) doit soumettre les informations et les documents suivants : .a) un plan à l’échelle montrant (Règlement 2534-2015): .i) \\xa0les dimensions de l’enseigne ou murale.', '.ii) \\xa0la superficie exacte de sa face la plus grande.', '.iii) \\xa0la hauteur de l’enseigne ou murale.', '.iv) \\xa0la hauteur nette entre le bas de l’enseigne ou murale et le niveau du sol.', '.v) \\xa0la description de la structure et du mode de fixation de l’enseigne ou murale.', '.vi) \\xa0les couleurs et le type d’éclairage.', '.2327-2009 – Règlement permis et certificats 34 Version administrative Ville de Magog Dernière mise à jour : 11 juillet 2019 ..b) \\xa0un plan de localisation par rapport aux bâtiments, aux lignes de propriété et aux lignes de rue.', '.c) \\xa0les plans, élévations, coupes, croquis et devis indiquant tous les détails requis par les règlements de zonage et de construction.', '.Retour au tableau I .28.', 'Aménagement d’un stationnement de plus de cinq cases (Règlement 2534- 2015) .La personne qui désire faire une demande de certificat d’autorisation pour l’aménagement d’un stationnement de plus de cinq cases doit soumettre les informations et les documents suivants (Règlement 2534-2015): .a) pour un stationnement de plus de cinq cases, un plan à l’échelle montrant (Règlement 2534-2015): .i) \\xa0la limite du terrain visé.', '.ii) \\xa0son identification cadastrale.', '.iii) \\xa0la localisation et l’importance relative de la nouvelle utilisation du sol sur l’ensemble du lot ou des lots utilisés.', '.iv) \\xa0la projection au sol du ou des bâtiments existants ou projetés.', '.v) \\xa0la ligne ou les lignes de rue ou chemin.', '.vi) \\xa0la localisation de tout lac ou cours d’eau situé sur le terrain ou sur les lots ou terrains contigus au terrain faisant l’objet de la demande.', '.vii) \\xa0la localisation des boisés existants sur le terrain et la topographie naturelle dans le cas des terrains situés en bordure d’un lac ou d’un cours d’eau.', '.viii) \\xa0un plan de drainage de surface du stationnement.', '.ix) \\xa0les détails requis pour assurer la bonne compréhension des travaux .', '.', '(Règlement 2534-2015) .Retour au tableau I .2327-2009 – Règlement permis et certificats 35 Version administrative Ville de Magog Dernière mise à jour : 11 juillet 2019 ..29.', 'Installation d’une piscine, d’une structure relative à une piscine ou la construction d’un mur de soutènement (Règlement 2534-2015) .La personne qui désire faire une demande de certificat d’autorisation pour l’installation d’une piscine ou d’une structure relative à une piscine ou la construction d’un mur de soutènement doit soumettre les informations et les documents suivants (Règlement 2534-2015): .a) \\xa0un plan ou croquis indiquant le site, les dimensions de l’ouvrage, la limite du terrain, les bâtiments existants.', '.b) \\xa0des plans et devis pour un mur de soutènement dont la hauteur verticale hors- sol est égale ou supérieure à 1,5 mètre signé par un ingénieur de l’Ordre des ingénieurs du Québec.', '(Règlement 2474-2013) .c) \\xa0pour une piscine creusée, un plan de construction complet.', '.d) \\xa0toutes autres informations nécessaires pour vérifier la conformité aux normes .applicables.', '(Règlement 2474-2013) .Jusqu’à ce que les travaux concernant la piscine et construction s’y rapportant soient dûment complétés, la personne à qui est livré le certificat d’autorisation est responsable d’assurer la sécurité des lieux et de prévenir, s’il y a lieu, des mesures temporaires pour contrôler l’accès à la piscine.', '(Règlement 2474-2013) .Toute personne qui a obtenu un permis pour installer une piscine démontable n’est pas tenue de faire une nouvelle demande pour la réinstallation d’une piscine démontable au même endroit et dans les mêmes conditions.', '(Règlement 2474- 2013) .Retour au tableau I .30.', 'Abattage d’arbres .a) abattage d’arbres pour fins d’exploitation forestière : .Toute personne désirant effectuer un abattage de plus de 10 % des tiges sur une superficie de 5 000 mètres carrés ou plus, doit obtenir un certificat d’autorisation à cet effet.', 'La demande d’autorisation doit comprendre les informations suivantes : .i) \\xa0mention de l’entrepreneur qui procédera à la coupe, ou du titulaire du droit de coupe et de l’ingénieur forestier qui a prescrit les travaux s’il y a lieu.', '.ii) \\xa0localisation du terrain faisant l’objet de la demande et description des travaux d’abattage d’arbres pour lesquels une demande de certificat d’autorisation est faite.', '.2327-2009 – Règlement permis et certificats 36 Version administrative Ville de Magog Dernière mise à jour : 11 juillet 2019 ..b) .iii) iv) .une prescription sylvicole concernant les travaux forestiers pour lesquels une demande de certificat d’autorisation est faite, lorsque disponible.', '.dans le cas d’abattage de plus de 20 % des tiges de bois d’un terrain, un plan simple de gestion préparé par un ingénieur forestier comportant notamment les informations suivantes : .- \\xa0localisation du terrain visé par la demande et description des peuplements qui s’y trouvent.', '.- \\xa0localisation et description des travaux forestiers effectués sur le terrain en question au cours des douze dernières années.', '.- \\xa0identification des peuplements malades ou attaqués par les insectes (s’il y a lieu).', '.- \\xa0détermination et localisation du bois renversé par le vent (chablis).', '.- \\xa0description des travaux prévus sur le terrain visé au cours des cinq prochaines années.', '.détermination et localisation des cours d’eau, des milieux humides et des aires d’empilement.', '(Règlement 2514-2014) .les mesures de contrôle de l’érosion prévues et un plan de gestion des sols et des eaux de ruissellement tel que décrit à l’article 33 si la coupe s’effectue sur un terrain présentant l’une des caractéristiques suivantes : une pente moyenne du site supérieure à 25 %, une surface de terrain supérieure à 2 hectares ou sur une surface de terrain supérieur à 1 hectare dans une bande de 100 mètres des lacs Memphrémagog, Magog et Lovering, du ruisseau Castle, de la rivière aux Cerises et de la rivière Magog.', '.abattage d’arbres pour fins autres que l’exploitation forestière : .Toute personne désirant effectuer un abattage d’un ou de plusieurs arbres pour d’autres fins que l’exploitation forestière doit obtenir un certificat d’autorisation à cet effet.', 'La demande d’autorisation doit comprendre les informations suivantes (Règlement 2534-2015) : .i) localisation du terrain faisant l’objet de la demande et l’identification des arbres à abattre pour lesquels une demande de certificat d’autorisation est faite.', '.v) vi) .2327-2009 – Règlement permis et certificats 37 Version administrative Ville de Magog Dernière mise à jour : 11 juillet 2019 .ii) \\xa0les raisons appuyant la demande et toutes informations venant appuyer ces raisons (photos, confirmation écrite d’un expert, etc.', '), lorsque nécessaires.', '.iii) \\xa0sauf pour la coupe d’arbre mort, malade ou dangereux, un plan d’aménagement du site doit être remis comprenant (Règlement 2534- 2015): .- \\xa0les superficies visées par l’abattage d’arbre.', '.- \\xa0les sites d’entreposage du bois ou autres matières.', '.- \\xa0la couverture boisée existante et restante après les travaux.', '.- \\xa0les ouvrages projetés incluant les rues, les accès, le stationnement, l’installation septique, le puits, le bâtiment principal, le bâtiment secondaire, la clôture.', '.- \\xa0le calendrier des travaux.', '.- \\xa0les mesures de contrôle de l’érosion.', '.- \\xa0le reboisement prévu le cas échéant.', '.', '(Règlement 2428-2012) .iv) .dans le cas de l’abattage d’un frêne, une description du mode de gestion des résidus de frêne incluant : .la zone de dépôt des résidus sur le terrain et la durée de l’entreposage des résidus.', '.la délimitation de la zone boisée, si les résidus demeurent sur place.', 'la date de sortie des résidus, le cas échéant.', '.le choix du procédé de transformation des résidus retenu, le cas échéant.', '.l’identification du site de traitement des résidus, le cas échéant.', '.- .- .- .- .- .', '(Règlement 2728-2019) .Retour au tableau I .2327-2009 – Règlement permis et certificats 38 Version administrative Ville de Magog Dernière mise à jour : 11 juillet 2019 ..31.', \"Aménagement ou modification d’une installation septique, d’une installation de prélèvement d’eau souterraine ou de surface ou d’un système de géothermie (Règlement 2534-2015) .La personne qui désire faire une demande de certificat d'autorisation pour une installation septique ou pour l’aménagement ou la modification d’une installation de prélèvement d’eau souterraine ou d’un système de géothermie doit soumettre les informations et documents suivants : (Règlement 2534-2015) .a) pour une installation septique : .i) \\xa0un plan d’implantation à l’échelle indiquant le site des installations, le ou les installations de prélèvement d'eaux ou systèmes de géothermie qui prélève de l’eau, le bâtiment desservi, l’emplacement de drains et fossés le cas échéant, les limites de propriétés, la présence de cours d’eau, de milieu humide, de marais et d’étang à proximité, toute autre caractéristique physique du sol pouvant affecter l’emplacement de l’installation, les propriétés voisines (distance) ainsi que leurs installations de prélèvement d'eaux ou leur système de géothermie prélevant de l’eau respectif.\", '(Règlements 2534-2015 et 2571-2016) .ii) \\xa0en fournissant une attestation des résultats d’une ou des méthodes utilisées pour établir le niveau de perméabilité du sol préparée par une personne membre d’un ordre professionnel compétent en la matière, prouvant que le sol est propice à l’établissement d’installations sanitaires.', 'Cette attestation est exigible pour toute nouvelle construction, pour le remplacement d’une installation septique et lorsqu’il y a addition d’une ou de plusieurs chambres à coucher ou présence de toute modification pouvant mener à l’augmentation du débit d’eau journalier dans un bâtiment qui existait lors de l’entrée en vigueur du Règlement relatif à l’évacuation et le traitement des eaux usées des résidences isolées adopté en vertu de la Loi sur la qualité de l’environnement.', '(Règlement 2571-2016) .iii) \\xa0pour le remplacement de la fosse septique seulement, une attestation préparée par une personne membre d’un ordre professionnel compétent en la matière démontrant que l’élément épurateur est conforme à la version du Règlement sur l’évacuation et le traitement des eaux usées des résidences isolées en vigueur lors de sa construction.', 'et que les eaux usées de la résidence ne constituent pas une source de nuisances, de contamination des eaux de surface, des eaux de puits ou des eaux servant à l’alimentation ou bien une source de contamination des eaux de surface.', '(Règlement 2571-2016) .iv) \\xa0un plan de construction montrant tous les détails de l’installation proposée.', '.2327-2009 – Règlement permis et certificats 39 Version administrative Ville de Magog Dernière mise à jour : 11 juillet 2019 .v) \\xa0Abrogé (Règlement 2534-2015).', '.vi) \\xa0toute autre information requise en vertu du règlement Q-2, r.22.', '.vii) \\xa0lors de la mise en place du système de traitement des eaux usées, une personne membre d’un ordre professionnel compétent en la matière doit faire les inspections nécessaires à la production d’une attestation de conformité des travaux.', 'Le propriétaire ou son mandataire doit fournir à la Ville, dans les 3 mois suivant l’échéance du certificat d’autorisation, un rapport scellé attestant la conformité des travaux réalisés.', 'Ceux-ci doivent être conformes aux documents et plans soumis dans le cadre de la demande de certificat d’autorisation ainsi qu’au Règlement provincial sur l’évacuation et le traitement des eaux usées des résidences isolées (Q-2, r.22).', 'Ce rapport doit notamment contenir : .- \\xa0la date de l’inspection.', '.- \\xa0le numéro du certificat d’autorisation.', '.- \\xa0l’adresse de l’immeuble visé.', '.- \\xa0le nom de la personne ayant réalisé l’inspection des travaux et le nom de l’ordre professionnel auquel elle appartient.', '.- \\xa0le mandat confié au mandataire, le cas échéant.', '.- \\xa0le nom de l’entrepreneur/excavateur.', '.- \\xa0les photos démontrant les installations, le site, leur emplacement et les numéros BNQ.', '.- \\xa0le type d’installation ainsi que leurs dimensions et capacité.', '.- \\xa0la confirmation de la présence de drainage de sol, le cas échéant.', '.- \\xa0le plan de localisation des installations telles que construites en indiquant les distances réglementaires en lien avec le Q-2, r.22 ainsi que toutes autres informations pouvant aider à la compréhension de l’inspection.', '.- \\xa0la granulométrie des matériaux utilisés, le cas échéant.', '(Règlement 2571-2016) .2327-2009 – Règlement permis et certificats 40 Version administrative Ville de Magog Dernière mise à jour : 11 juillet 2019 .viii) malgré le sous-paragraphe vi), dans le cas où les travaux concernent uniquement le remplacement d’une fosse existante, l’inspecteur de la Ville est responsable de l’inspection finale et le propriétaire ou son mandataire, le cas échéant, n’a pas à remettre de rapport attestant la conformité des travaux.', '.b) pour l’aménagement ou la modification d’une installation de prélèvement d’eaux ou un système de géothermie : .i) \\xa0les noms et coordonnées complètes du propriétaire du site et du demandeur.', '.ii) \\xa0le numéro de permis RBQ de la firme qui effectuera les travaux (sauf pour un prélèvement d’eau de surface).', '.iii) \\xa0la capacité de pompage recherchée.', '.iv) \\xa0un plan de localisation à l’échelle montrant : .- \\xa0le bâtiment qui sera desservi.', '.- \\xa0les limites de propriété.', '.- \\xa0le ou les installations de prélèvement d’eau souterraine ou systèmes de géothermie prélevant de l’eau existants (si obturé, fournir le détail de l’obturation).', '.- \\xa0les cours d’eau, les lacs, les milieux humides, les zones inondables avec la cote 0-20 ans et 20-100 ans.', '.- \\xa0toute autre caractéristique physique du sol pouvant affecter l’emplacement de l’installation de prélèvement d’eau.', '.- \\xa0les distances entre l’installation de prélèvement d’eau et le ou les systèmes étanches et non étanches de traitement des eaux usées à proximité et pouvant modifier l’emplacement de l’installation de prélèvement prévu ou toutes autres sources potentielles de contamination (exploitation d’un cimetière, aire de compostage, exploitation agricole incluant les parcelles en culture, les installations d’élevage, les cours d’exercice, les ouvrages de stockage de déjections animales, les pâturages, etc.).', '.v) \\xa0dans le cas d’un prélèvement d’eaux de surface, fournir en plus un plan de construction montrant tous les détails de l’installation proposée (type de prélèvement, matériaux, élévations).', '.2327-2009 – Règlement permis et certificats 41 Version administrative Ville de Magog Dernière mise à jour : 11 juillet 2019 .vi) \\xa0dans le cas d’un système de géothermie, fournir en plus un plan de construction montrant les détails de l’installation proposée et les mesures de protection environnementales.', '.vii) \\xa0toute autre information requise en vertu du Règlement sur le prélèvement des eaux et leur protection adopté en vertu de la Loi sur la qualité de l’environnement.', '.viii) \\xa0un rapport comme exigé par les articles 21 et 30 selon le cas en vertu du Règlement sur le prélèvement des eaux et leur protection dans les 30 jours suivants la fin des travaux.', '.', '(Règlements 2428-2012 et 2534-2015) .Retour au tableau I .Abrogé (Règlement 2534-2015) .Travaux de remaniement des sols .La personne qui fait une demande de certificat d’autorisation pour les travaux de remaniement des sols doit soumettre les informations et documents suivants : .a) \\xa0les noms et coordonnées complètes du propriétaire du site et du demandeur.', '.b) \\xa0le nom et coordonnées de l’entrepreneur.', '.c) \\xa0la description du projet.', '.d) \\xa0un plan à l’échelle montrant (Règlement 2534-2015): .i) \\xa0la limite du terrain visé.', '.ii) \\xa0l’identification cadastrale.', '.iii) \\xa0l’identification de toutes les parties du site qui seront affectées pendant les travaux notamment les aires à déboiser.', '.iv) \\xa0la localisation, dans un rayon de 100 mètres au pourtour des travaux projetés, de l’ensemble des éléments faisant partie du réseau hydrographique (milieux humides, cours d’eau, lacs), la ligne des hautes eaux, les rives et les distances applicables.', '.v) \\xa0la localisation des fossés ou du réseau d’égout pluvial ou d’égout unitaire, le cas échéant.', '.vi) \\xa0le sens de l’écoulement des eaux sur le terrain et en aval, le cas échéant.', '.2327-2009 – Règlement permis et certificats 42 Version administrative Ville de Magog Dernière mise à jour : 11 juillet 2019 ..vii) \\xa0la localisation des éléments épurateurs dans un rayon de 5 mètres des travaux projetés, le cas échéant.', '.viii) \\xa0la localisation et la description des mesures temporaires et permanentes prévues pour le contrôle de l’érosion et des sédiments.', '.ix) \\xa0les mesures de revégétalisation ou de plantation prévues pour les zones remaniées.', '.x) \\xa0le lieu où les déblais seront disposés et le cas échéant, l’autorisation du receveur et le permis applicable.', '.xi) \\xa0le calendrier des travaux projetés.', '.xii) \\xa0toute autre information requise afin d’évaluer l’impact du remaniement des sols et des eaux de ruissellement sur le site.', '.e) un plan de gestion des sols et des eaux de ruissellement réalisé par un ingénieur ou un professionnel ayant un diplôme universitaire dans le domaine de l’environnement ou de l’hydrologie pour les travaux suivants : (Règlement 2474- 2013) .i) \\xa0les travaux de remaniement du sol sont effectués dans une pente moyenne du site supérieure à 25 % .', '.ii) \\xa0les travaux relatifs à l’aménagement, la réfection majeure ou l’entretien d’une rue, d’un chemin, d’une route, d’un fossé, d’une allée de circulation pour une longueur linéaire supérieure à 100 mètres.', '.iii) \\xa0le remaniement affectant une surface de 2 hectares ou plus.', '.iv) \\xa0le remaniement affectant une surface d’un hectare ou plus situé à moins de 100 mètres des lacs Memphrémagog, Magog et Lovering, du ruisseau Castle, de la rivière aux Cerises et de la rivière Magog.', '.Ce plan doit comprendre en plus des éléments énumérés en a), b), c) et d), les éléments suivants : .- \\xa0la topographie existante du site (courbe de niveau au 2 mètres) et projetée sur l’ensemble des zones touchées par les travaux de remaniement des sols.', '.- \\xa0le niveau moyen de la rue, qui borde le terrain, mesuré en son centre.', '.- \\xa0le calendrier des travaux projetés avec en plus la mention des dates suivantes : l’installation des mesures temporaires, la mise en fonction des mesures permanentes et le retrait des mesures temporaires.', '.', '(Règlement 2428-2012) .2327-2009 – Règlement permis et certificats 43 Version administrative Ville de Magog Dernière mise à jour : 11 juillet 2019 .Retour au tableau I .34.', 'Travaux reliés à l’ancrage d’une tour de communication .La personne qui fait une demande de certificat d’autorisation pour les travaux reliés à l’ancrage d’une tour de communication doit soumettre les informations et documents suivants : .a) un plan à l’échelle montrant : .i) \\xa0la limite du terrain visé .', '.ii) \\xa0son identification cadastrale.', '.iii) \\xa0la localisation de la partie du terrain devant être affectée par les ouvrages projetés.', '.iv) \\xa0la localisation de tous les cours d’eau et marécages sur le terrain ou sur les lots ou terrains contigus.', '.v) \\xa0la projection au sol des bâtiments ou ouvrages déjà construits sur le terrain visé ou sur les lots ou terrains contigus.', '.vi) \\xa0la ligne ou les lignes de rue ou chemin situées à proximité des travaux prévus.', '.vii) \\xa0le profil et les niveaux de terrain avant et après la réalisation des ouvrages projetés.', '.viii) \\xa0les plans et devis de la structure comprenant entre autres : .- \\xa0les dimensions de la tour.', '.- \\xa0la capacité structurale de la tour et le poids des émetteurs / .récepteurs à y implanter.', '.- \\xa0la localisation, sur la tour, des antennes et du système lumineux.', '.- \\xa0les matériaux de construction et la couleur de parement de la tour.', '.- \\xa0les types d’ancrage au sol de la tour.', '.- \\xa0copie du bail de location démontrant plus spécifiquement les .engagements concernant le délai prévu du démantèlement de la tour.', '.Retour au tableau I .35.', 'Abrogé (Règlement 2534-2015) .35.1 Travaux reliés à la démolition d’un bâtiment principal vétuste ou d’un bâtiment accessoire de plus de 20 mètres carrés (Règlement 2350-2010) .2327-2009 – Règlement permis et certificats 44 Version administrative Ville de Magog Dernière mise à jour : 11 juillet 2019 ..La personne qui désire faire une demande de certificat d’autorisation pour la démolition d’un bâtiment principal vétuste ou d’un bâtiment accessoire de plus de 20 mètres carrés doit soumettre les informations et documents suivants : .a) \\xa0le nom, le prénom, l’adresse et le numéro de téléphone du propriétaire .', '.b) \\xa0être signée par le propriétaire ou son représentant dûment autorisé .', '.c) \\xa0une description de l’immeuble à être démoli .', '.d) \\xa0l’identification de l’endroit où seront remisés les matériaux et rebuts provenant de la démolition .', '.e) \\xa0le délai requis pour la démolition .', '.f) \\xa0un programme préliminaire de réutilisation du sol dégagé.', '.Retour au tableau I ..2327-2009 – Règlement permis et certificats 45 Version administrative Ville de Magog Dernière mise à jour : 11 juillet 2019 .36.', 'Entrée en vigueur .CHAPITRE IV DISPOSITIONS FINALES .Le présent règlement entre en vigueur conformément à la loi.', '...']\n"
          ],
          "name": "stdout"
        }
      ]
    },
    {
      "cell_type": "code",
      "metadata": {
        "id": "frPyHPWxjayi",
        "colab_type": "code",
        "colab": {}
      },
      "source": [
        "fileObj.close()"
      ],
      "execution_count": 0,
      "outputs": []
    },
    {
      "cell_type": "code",
      "metadata": {
        "id": "BW3OoILukqcL",
        "colab_type": "code",
        "colab": {}
      },
      "source": [
        "df_statement = pd.DataFrame(tokens, columns=[\"statement\"])"
      ],
      "execution_count": 0,
      "outputs": []
    },
    {
      "cell_type": "code",
      "metadata": {
        "id": "-2zIJ-SewVSR",
        "colab_type": "code",
        "outputId": "e303b0f6-9939-4462-a2c5-a9ed27c352d3",
        "colab": {
          "base_uri": "https://localhost:8080/",
          "height": 34
        }
      },
      "source": [
        "df_statement.shape"
      ],
      "execution_count": 0,
      "outputs": [
        {
          "output_type": "execute_result",
          "data": {
            "text/plain": [
              "(462, 1)"
            ]
          },
          "metadata": {
            "tags": []
          },
          "execution_count": 9
        }
      ]
    },
    {
      "cell_type": "code",
      "metadata": {
        "id": "alUUlF0yuaVh",
        "colab_type": "code",
        "outputId": "0982799a-a0ea-4d20-9406-cb9f8651d6c1",
        "colab": {
          "base_uri": "https://localhost:8080/",
          "height": 1000
        }
      },
      "source": [
        "for i in range(0, 20):\n",
        "  pprint.pprint (df_statement.statement[i])"
      ],
      "execution_count": 0,
      "outputs": [
        {
          "output_type": "stream",
          "text": [
            "('\\ufeffCHAPITRE I\\n'\n",
            " 'DISPOSITIONS DÉCLARATOIRES ET INTERPRÉTATIVES .SECTION I .DISPOSITIONS '\n",
            " 'DÉCLARATOIRES .Titre .Le présent règlement est intitulé « Règlement de '\n",
            " 'permis et certificats ».')\n",
            "('.Territoire assujetti .Le présent règlement s’applique à l’ensemble du '\n",
            " 'territoire de la Ville de Magog.')\n",
            "('.Règlements remplacés .Toute disposition incompatible avec le présent '\n",
            " 'règlement contenue dans tous les règlements municipaux antérieurs est, '\n",
            " 'par la présente, remplacée.')\n",
            "('.Sans restreindre la généralité du premier alinéa, le présent '\n",
            " 'règlement remplace le règlement 1382 du territoire de l’ancienne Ville de '\n",
            " 'Magog, le règlement 10-2002 du territoire de l’ancien Canton de Magog et le '\n",
            " 'règlement no 2000-197 du territoire de l’ancien Village d’Omerville et '\n",
            " 'leurs amendements.')\n",
            "('.SECTION II .DISPOSITIONS INTERPRÉTATIVES .Interprétation des tableaux '\n",
            " '.Les annexes, croquis, tableaux, diagrammes, graphiques, symboles et toutes '\n",
            " 'formes d’expression autres que le texte proprement dit, contenus dans ce '\n",
            " 'règlement ou auxquels il y est référé, en font partie intégrante à '\n",
            " 'toutes fins que de droit.')\n",
            "('.En cas de contradiction entre le texte et les annexes, croquis, tableaux, '\n",
            " 'diagrammes, graphiques, symboles et toutes autres formes d’expression, le '\n",
            " 'texte prévaut.')\n",
            "('.Primauté des mots .Les expressions et mots utilisés dans ce règlement '\n",
            " 'ont le sens que leur donne dans l’ordre de primauté suivant : .a) \\xa0le '\n",
            " 'présent règlement .')\n",
            "'.b) \\xa0le règlement de zonage .'\n",
            "('.2327-2009 – Règlement permis et certificats 6 Ville de Magog .Version '\n",
            " 'administrative Dernière mise à jour : 11 juillet 2019 .c) le règlement de '\n",
            " 'lotissement .')\n",
            "'.d) \\xa0le règlement de construction .'\n",
            "'.e) \\xa0le règlement de condition d’émission du permis de construire .'\n",
            "'.f) \\xa0Le sens usuel des expressions ou mots utilisés.'\n",
            "('.Définitions .À moins que le contexte ne comporte un sens différent, on '\n",
            " 'entend par : .« Certificat d’implantation » : Confirmation écrite de '\n",
            " 'l’exécution de l’implantation, soit l’ensemble des opérations effectuées '\n",
            " 'par l’arpenteur-géomètre dans le but de positionner au moyen de repères, '\n",
            " 'à partir de points connus, le site exact d’une structure et d’un plan '\n",
            " 'd’accompagnement délivrés par l’arpenteur-géomètre .')\n",
            "('.« Changement d’usage » : Modification d’un usage tel que défini, tant du '\n",
            " 'côté du Règlement de zonage que celui du Règlement de construction '\n",
            " '(Règlement 2350-2010) .')\n",
            "('.« Plan projet d’implantation » : Plan à l’échelle montrant la position '\n",
            " 'projetée du bâtiment sur le terrain faisant l’objet de la demande de '\n",
            " 'permis .')\n",
            "('.« Réparation d’une construction » : Signifie le remplacement de certains '\n",
            " 'éléments détériorés d’une construction par des éléments identiques, '\n",
            " 'de même nature ou équivalents, et ayant pour effet la conservation ou '\n",
            " 'l’entretien de ladite construction .')\n",
            "('.« Superficie brute totale des planchers » : La superficie totale de tous '\n",
            " 'les étages au-dessus du niveau du sol, calculée entre les faces externes '\n",
            " 'des murs extérieurs.')\n",
            "('.Système de mesure .Toutes les dimensions données dans le présent '\n",
            " 'règlement sont indiquées selon le système international (SI).')\n",
            "('.2327-2009 – Règlement permis et certificats 7 Version administrative Ville '\n",
            " 'de Magog Dernière mise à jour : 11 juillet 2019 .SECTION I .CHAPITRE II '\n",
            " 'DISPOSITIONS ADMINISTRATIVES .APPLICATION DU RÈGLEMENT .Administration du '\n",
            " 'règlement .La Direction de la planification et du développement du '\n",
            " 'territoire de la Ville est chargée de l’administration du présent '\n",
            " 'règlement.')\n",
            "('(Règlements 2428-2012 et 2728- 2019)) .Application .Les inspecteurs sont '\n",
            " 'chargés de l’application de présent règlement.')\n"
          ],
          "name": "stdout"
        }
      ]
    },
    {
      "cell_type": "code",
      "metadata": {
        "id": "KyHH2MpDqIDb",
        "colab_type": "code",
        "colab": {}
      },
      "source": [
        "fileObj.close()"
      ],
      "execution_count": 0,
      "outputs": []
    },
    {
      "cell_type": "markdown",
      "metadata": {
        "colab_type": "text",
        "id": "9x3u-2uSGbDf"
      },
      "source": [
        "The following code block setup the tensorflow graph **g** and **session** with the [Univeral Encoder Multilingual Q&A model](https://tfhub.dev/google/universal-sentence-encoder-multilingual-qa/3)'s **question_encoder** and **response_encoder** signatures."
      ]
    },
    {
      "cell_type": "code",
      "metadata": {
        "colab_type": "code",
        "id": "44I0uCRQRiFO",
        "outputId": "2385f588-d219-4fe7-a2d5-8c1150b0cc49",
        "colab": {
          "base_uri": "https://localhost:8080/",
          "height": 51
        }
      },
      "source": [
        "#@title Load model from tensorflow hub\n",
        "%%time\n",
        "module_url = \"https://tfhub.dev/google/universal-sentence-encoder-multilingual-qa/3\" #@param [\"https://tfhub.dev/google/universal-sentence-encoder-multilingual-qa/3\", \"https://tfhub.dev/google/universal-sentence-encoder-qa/3\"]\n",
        "model = hub.load(module_url)\n"
      ],
      "execution_count": 0,
      "outputs": [
        {
          "output_type": "stream",
          "text": [
            "CPU times: user 14 s, sys: 2.51 s, total: 16.5 s\n",
            "Wall time: 19.5 s\n"
          ],
          "name": "stdout"
        }
      ]
    },
    {
      "cell_type": "markdown",
      "metadata": {
        "colab_type": "text",
        "id": "SCQpDmTZG0O6"
      },
      "source": [
        "The following code block compute the embeddings for all the text, context tuples and store them in a [simpleneighbors](https://pypi.org/project/simpleneighbors/) index using the **response_encoder**.\n"
      ]
    },
    {
      "cell_type": "code",
      "metadata": {
        "colab_type": "code",
        "id": "FwDUryIfSLp2",
        "outputId": "e60a19b9-146f-4d1f-f425-3dcc84977eee",
        "colab": {
          "base_uri": "https://localhost:8080/",
          "height": 51
        }
      },
      "source": [
        "#@title Compute embeddings and build simpleneighbors index\n",
        "%%time\n",
        "\n",
        "encodings = model.signatures['response_encoder'](\n",
        "  input=tf.constant(df_statement.statement[0]),\n",
        "  context=tf.constant(df_statement.statement[0]))\n",
        "index = simpleneighbors.SimpleNeighbors(\n",
        "    len(encodings['outputs'][0]), metric='angular')\n",
        "\n"
      ],
      "execution_count": 0,
      "outputs": [
        {
          "output_type": "stream",
          "text": [
            "CPU times: user 2.04 s, sys: 36.5 ms, total: 2.08 s\n",
            "Wall time: 3 s\n"
          ],
          "name": "stdout"
        }
      ]
    },
    {
      "cell_type": "code",
      "metadata": {
        "id": "WTMDypUgvQ-N",
        "colab_type": "code",
        "outputId": "83439ced-25bd-4de1-aeed-d58dc3abcae0",
        "colab": {
          "base_uri": "https://localhost:8080/",
          "height": 1000
        }
      },
      "source": [
        "#print(index)\n",
        "print(encodings)"
      ],
      "execution_count": 0,
      "outputs": [
        {
          "output_type": "stream",
          "text": [
            "{'outputs': <tf.Tensor: shape=(1, 512), dtype=float32, numpy=\n",
            "array([[ 3.52027640e-03,  2.99208406e-02, -2.45567746e-02,\n",
            "        -1.17191207e-02, -6.64082468e-02, -5.31697161e-02,\n",
            "        -2.51023490e-02, -3.14379744e-02, -5.80820739e-02,\n",
            "        -4.57478389e-02,  7.23934174e-02,  4.61452715e-02,\n",
            "        -4.51491140e-02,  4.13819253e-02,  1.71931032e-02,\n",
            "        -6.66568950e-02,  2.79163774e-02,  2.58047599e-04,\n",
            "        -3.45768183e-02, -3.75409834e-02, -1.37330894e-03,\n",
            "        -5.01763485e-02,  4.86569293e-02,  5.80334179e-02,\n",
            "         6.35171235e-02,  5.28913252e-02,  6.36867853e-03,\n",
            "         2.30070073e-02, -3.40671092e-02, -1.51939979e-02,\n",
            "         4.00387570e-02, -5.89067154e-02, -2.35501062e-02,\n",
            "        -2.46386584e-02,  3.97542939e-02,  1.39056938e-03,\n",
            "        -6.92113787e-02,  2.90953740e-02, -6.41708374e-02,\n",
            "         6.06820248e-02,  1.02825258e-02, -5.72114885e-02,\n",
            "        -7.57310074e-03,  3.74145694e-02,  4.28285860e-02,\n",
            "         8.14917311e-03,  5.48161054e-03,  2.69245375e-02,\n",
            "         3.67292203e-02, -2.01075990e-02,  4.51723896e-02,\n",
            "         6.27609268e-02,  3.81021611e-02,  5.29006124e-03,\n",
            "         6.21360615e-02,  7.00840056e-02, -6.55732676e-02,\n",
            "        -3.69040705e-02,  6.81511611e-02, -5.27098328e-02,\n",
            "         5.64910173e-02, -7.77046708e-03,  3.45214047e-02,\n",
            "         4.47968617e-02,  3.74027565e-02, -5.60657345e-02,\n",
            "         3.48470248e-02,  6.91017359e-02,  3.77864502e-02,\n",
            "         1.40115181e-02,  3.33663151e-02,  4.11499627e-02,\n",
            "         1.21873552e-02, -1.46397378e-03, -5.14938980e-02,\n",
            "         4.93842550e-02,  6.28571659e-02,  6.26415461e-02,\n",
            "        -6.81909993e-02, -5.07222898e-02,  2.28329487e-02,\n",
            "        -6.73258156e-02,  7.19052926e-02, -2.12448277e-02,\n",
            "         6.26544580e-02, -6.73400015e-02, -5.91597222e-02,\n",
            "        -4.29901714e-03,  7.61739537e-02, -2.14473475e-02,\n",
            "         5.99819273e-02, -4.39283065e-02,  7.28659183e-02,\n",
            "        -4.64593759e-04, -4.87509966e-02, -2.04489399e-02,\n",
            "         6.68484122e-02, -5.71917463e-03, -4.97809984e-02,\n",
            "        -3.56496535e-02, -6.85462356e-02, -1.81680005e-02,\n",
            "        -6.58090040e-02,  5.88898323e-02, -1.70384999e-02,\n",
            "        -6.32584095e-02,  3.77643146e-02,  2.53620725e-02,\n",
            "         6.15024231e-02, -5.57887703e-02,  3.86411138e-02,\n",
            "         5.17105088e-02,  7.18725175e-02, -2.53031217e-02,\n",
            "         7.01180100e-02,  3.58210281e-02, -6.11806959e-02,\n",
            "         5.43419160e-02, -6.40861392e-02, -2.63370853e-02,\n",
            "        -6.92394227e-02,  5.54149672e-02,  4.49992158e-02,\n",
            "         3.94043922e-02,  2.42641605e-02,  4.99742590e-02,\n",
            "         2.52439408e-03,  1.52821292e-03,  3.62845547e-02,\n",
            "        -1.44176614e-02,  1.40290027e-02, -6.39725253e-02,\n",
            "        -3.63050140e-02,  3.33141163e-02,  6.20098552e-03,\n",
            "         5.54607138e-02,  2.73709297e-02,  3.82837169e-02,\n",
            "        -6.10172227e-02,  3.15182768e-02, -5.50030433e-02,\n",
            "        -2.42828242e-02,  7.06019178e-02, -5.77788800e-02,\n",
            "        -4.87288237e-02,  5.70958331e-02,  3.19556631e-02,\n",
            "        -7.08278418e-02,  3.06234043e-02, -5.60046136e-02,\n",
            "         1.75570119e-02,  5.18051460e-02, -5.01188040e-02,\n",
            "        -3.92575413e-02, -1.97688621e-02,  5.28688766e-02,\n",
            "         4.61596735e-02,  4.30865958e-02, -2.76109595e-02,\n",
            "        -5.86476289e-02,  2.06529424e-02, -1.87014346e-03,\n",
            "         2.44263243e-02,  9.92570911e-03,  1.57869458e-02,\n",
            "        -1.29576717e-02, -6.85063750e-02, -3.59176137e-02,\n",
            "         1.97891071e-02,  2.73250807e-02, -3.72911058e-02,\n",
            "         6.58409670e-02, -6.45805001e-02, -3.63930948e-02,\n",
            "         4.66126762e-02,  6.42478094e-02,  1.84126571e-02,\n",
            "        -5.50484173e-02, -5.48769869e-02,  2.46805269e-02,\n",
            "         3.93563397e-02, -9.24221054e-03, -2.18982026e-02,\n",
            "        -8.64995085e-03, -3.18674929e-02, -2.19413228e-02,\n",
            "         5.15661873e-02,  1.69876907e-02,  5.30999079e-02,\n",
            "         1.80734843e-02,  1.00998189e-02, -1.95618458e-02,\n",
            "         7.64859691e-02,  2.34458800e-02, -2.46739071e-02,\n",
            "         1.53525705e-02, -3.82636487e-02, -5.35607673e-02,\n",
            "         4.48207110e-02,  4.59575243e-02,  3.83991897e-02,\n",
            "         2.00268626e-02,  4.27435525e-02,  4.99668308e-02,\n",
            "         6.00680672e-02,  5.84472194e-02, -2.39308993e-03,\n",
            "        -5.54736108e-02,  7.78310467e-03, -5.47899231e-02,\n",
            "         6.68660784e-03,  4.77479585e-02,  7.33820628e-03,\n",
            "        -5.91063425e-02,  3.52503583e-02, -5.72941937e-02,\n",
            "         1.92674901e-02, -5.66494316e-02,  6.59576282e-02,\n",
            "        -3.96098979e-02,  4.63431589e-02, -6.01300225e-02,\n",
            "        -5.72828501e-02, -1.92939453e-02,  7.26645812e-02,\n",
            "         1.16824033e-02,  4.48247306e-02,  5.35560288e-02,\n",
            "         4.65830714e-02,  7.16905743e-02, -4.35677022e-02,\n",
            "         6.10019006e-02,  6.95606247e-02,  5.30859493e-02,\n",
            "        -2.95538232e-02, -5.96471466e-02,  6.36610687e-02,\n",
            "        -7.52011780e-03, -1.39691764e-02, -7.69878551e-02,\n",
            "         6.47992045e-02, -5.79620944e-03, -1.35057075e-02,\n",
            "         2.33414862e-02, -2.24473681e-02, -4.95191626e-02,\n",
            "         6.37431145e-02,  6.44197240e-02,  5.68714226e-03,\n",
            "        -3.07338196e-03, -8.56456906e-03, -4.03270945e-02,\n",
            "         3.24737206e-02,  1.63215995e-02,  1.83792207e-02,\n",
            "        -7.26101324e-02,  3.39972973e-02,  3.86757366e-02,\n",
            "         2.98559684e-02, -3.65224257e-02, -7.51328841e-02,\n",
            "         3.02608628e-02,  5.02781244e-03, -6.11161701e-02,\n",
            "        -6.28227368e-02,  2.83230990e-02, -4.68621813e-02,\n",
            "        -4.80406545e-03,  6.05799221e-02, -3.64334360e-02,\n",
            "        -3.94724868e-02,  1.97033025e-02,  2.10292656e-02,\n",
            "        -4.49751206e-02,  1.02244569e-02,  5.27240597e-02,\n",
            "        -2.23597791e-02,  7.21444041e-02,  6.49677664e-02,\n",
            "         1.89637356e-02,  6.64567500e-02,  5.48994914e-02,\n",
            "         4.71538119e-02, -3.92969213e-02, -2.30084779e-03,\n",
            "        -6.74095303e-02, -3.91834825e-02, -4.03285511e-02,\n",
            "        -1.81486495e-02,  4.10287641e-02,  6.27001747e-02,\n",
            "         6.86213300e-02,  2.20723785e-02,  1.26310196e-02,\n",
            "        -5.21582328e-02, -4.74749319e-02,  5.09852692e-02,\n",
            "        -9.71053261e-03,  4.27449308e-02,  7.10990280e-02,\n",
            "        -5.53107783e-02, -4.17659357e-02,  3.70831899e-02,\n",
            "         3.90165136e-03, -1.88445207e-02, -5.91392145e-02,\n",
            "        -1.40627781e-02,  1.91805488e-03, -3.23966108e-02,\n",
            "         1.93552133e-02, -2.53925323e-02, -4.86118719e-02,\n",
            "        -7.52791110e-03,  7.62777627e-02,  4.74582650e-02,\n",
            "         1.19234193e-02, -5.94216399e-02, -3.35653983e-02,\n",
            "        -1.69979203e-02, -2.63377614e-02,  5.64831449e-03,\n",
            "        -5.77065647e-02,  1.49710048e-02,  6.79459646e-02,\n",
            "        -2.18198076e-02, -1.26993167e-03,  6.34239940e-03,\n",
            "         4.25402187e-02,  1.06477384e-02,  7.17459619e-02,\n",
            "        -4.50631566e-02,  6.39041066e-02, -5.93734123e-02,\n",
            "        -6.27060533e-02, -3.83065231e-02, -5.59005588e-02,\n",
            "         3.70449051e-02,  3.19218785e-02, -1.10723416e-03,\n",
            "        -1.24934400e-02,  4.38491739e-02, -6.88877031e-02,\n",
            "         6.72892630e-02,  5.49777113e-02,  5.39000100e-03,\n",
            "         1.10736704e-02, -5.35122603e-02,  5.35995625e-02,\n",
            "         4.63513359e-02,  7.42052719e-02, -6.67608231e-02,\n",
            "         2.10995264e-02, -1.31058441e-02, -7.02267960e-02,\n",
            "        -2.56016143e-02, -6.93892017e-02, -6.03388175e-02,\n",
            "        -2.93526929e-02, -5.01831174e-02,  3.70480716e-02,\n",
            "         1.26561988e-03, -3.08782607e-02, -2.55287196e-02,\n",
            "         5.09563461e-02, -5.51469363e-02,  6.79117963e-02,\n",
            "         2.63117924e-02,  1.01288259e-02, -3.56061123e-02,\n",
            "         8.90235603e-03,  2.10460974e-03, -4.89375927e-02,\n",
            "        -1.97151788e-02,  1.40251396e-02, -3.20836864e-02,\n",
            "        -1.54367322e-02,  4.28488404e-02,  1.25787845e-02,\n",
            "         4.99570556e-02, -4.95741367e-02,  7.20855668e-02,\n",
            "        -3.97000574e-02,  1.87201574e-02,  3.58571485e-02,\n",
            "        -2.55855974e-02, -2.96224896e-02, -3.69785703e-03,\n",
            "        -6.49399683e-02,  4.24230918e-02, -2.03342531e-02,\n",
            "        -4.44436707e-02,  6.20897338e-02,  1.00638776e-03,\n",
            "         5.42133525e-02,  3.33625935e-02, -4.64976616e-02,\n",
            "        -1.94195192e-02, -7.03527778e-02, -1.48429312e-02,\n",
            "        -5.84797598e-02,  2.82530077e-02, -6.30250350e-02,\n",
            "        -3.56271043e-02,  2.30611414e-02, -1.18509401e-02,\n",
            "         4.36347835e-02,  3.13209035e-02,  6.01472370e-02,\n",
            "        -2.91292593e-02,  1.23136473e-04, -4.69640233e-02,\n",
            "        -4.05782200e-02, -6.54556155e-02, -1.35071194e-02,\n",
            "        -4.77713421e-02, -2.67129131e-02, -3.36208940e-02,\n",
            "        -1.89563483e-02, -4.94319722e-02, -5.72675765e-02,\n",
            "        -3.30262184e-02,  6.83515295e-02, -2.30507609e-02,\n",
            "         4.38777842e-02,  6.37042746e-02,  4.86037135e-02,\n",
            "        -3.92021313e-02, -2.02047694e-02,  1.08429408e-02,\n",
            "        -6.21953979e-02,  1.11592487e-02, -2.66903583e-02,\n",
            "         4.70404550e-02, -2.86062993e-02,  2.81937495e-02,\n",
            "         5.78050986e-02,  6.88339993e-02,  6.76812902e-02,\n",
            "        -8.84363428e-03,  3.63271311e-02, -5.99609502e-02,\n",
            "        -6.06279299e-02,  5.70308492e-02,  5.95266111e-02,\n",
            "         6.78574517e-02, -7.91070779e-05, -5.67113459e-02,\n",
            "        -3.48274149e-02, -6.44611493e-02,  3.43367197e-02,\n",
            "         6.93786889e-02,  6.94729574e-03, -6.60960674e-02,\n",
            "        -1.76189300e-02,  2.48721559e-02, -4.56597768e-02,\n",
            "         6.41201213e-02, -4.86794673e-03, -1.67210959e-02,\n",
            "        -5.51468916e-02,  1.15844989e-02, -3.69281210e-02,\n",
            "         2.74784230e-02,  6.07996807e-02,  1.98316351e-02,\n",
            "         7.42501169e-02, -4.30467129e-02,  4.83169407e-02,\n",
            "        -3.41753364e-02, -1.37063283e-02,  2.18558665e-02,\n",
            "         5.48277572e-02, -6.22616336e-02,  3.30710486e-02,\n",
            "        -7.00873956e-02,  2.32100505e-02, -2.18473673e-02,\n",
            "        -2.47725900e-02,  2.90002227e-02, -6.37177378e-02,\n",
            "        -3.80379073e-02,  2.32561433e-04,  7.67439231e-02,\n",
            "        -4.19474468e-02,  6.71304464e-02,  5.11638075e-02,\n",
            "        -4.94215935e-02, -4.86446954e-02,  4.85603698e-02,\n",
            "         2.18868740e-02,  7.07776397e-02, -2.01697554e-02,\n",
            "        -3.87531891e-02,  4.14118767e-02,  6.14563450e-02,\n",
            "         6.54673995e-03, -5.80022335e-02,  3.46764401e-02,\n",
            "         6.73771724e-02,  4.66749668e-02, -1.68012008e-02,\n",
            "         2.35731211e-02, -2.90575586e-02,  3.64314094e-02,\n",
            "         3.05932425e-02, -1.76293869e-02,  6.82497397e-04,\n",
            "        -6.26096427e-02,  2.47728880e-02, -2.60119326e-02,\n",
            "         1.68389101e-02, -3.21317539e-02]], dtype=float32)>}\n"
          ],
          "name": "stdout"
        }
      ]
    },
    {
      "cell_type": "code",
      "metadata": {
        "id": "ZSZsR3uvvME-",
        "colab_type": "code",
        "colab": {}
      },
      "source": [
        "#print('Computing embeddings for %s sentences' % len(df_statement))\n",
        "CONTEXT_SIZE = 2\n",
        "for i in range(len(df_statement)) :\n",
        "  if (i > CONTEXT_SIZE and i < (len(df_statement)-CONTEXT_SIZE)):\n",
        "    context_statement = df_statement.statement[i-2]+df_statement.statement[i-1]+df_statement.statement[i]+df_statement.statement[i+1]+df_statement.statement[i+2]\n",
        "  else:\n",
        "    context_statement = df_statement.statement[i]\n",
        "\n",
        "  encodings = model.signatures['response_encoder'](\n",
        "    input=tf.constant(df_statement.statement[i]),\n",
        "    context=tf.constant(context_statement))\n",
        "  array1 = encodings['outputs'][0].numpy()\n",
        "  index.add_one(df_statement.statement[i], array1)"
      ],
      "execution_count": 0,
      "outputs": []
    },
    {
      "cell_type": "code",
      "metadata": {
        "id": "qkpHV_UK0F02",
        "colab_type": "code",
        "colab": {}
      },
      "source": [
        "index.build()"
      ],
      "execution_count": 0,
      "outputs": []
    },
    {
      "cell_type": "code",
      "metadata": {
        "id": "TRglbpT2l9uh",
        "colab_type": "code",
        "outputId": "972e2f5b-2eb0-4773-b4ce-c16352880e63",
        "cellView": "both",
        "colab": {
          "base_uri": "https://localhost:8080/",
          "height": 401
        }
      },
      "source": [
        "#@title Semantic search\n",
        "#@markdown Enter a set of words to find matching sentences. \n",
        "# 'results_returned' can beused to modify the number of matching \n",
        "# sentences retured. \n",
        "query = 'permis pour enlever un ch\\xEAne ?' #@param {type:\"string\"}\n",
        "answer = 'cookies'\n",
        "num_results = 10 #@param {type:\"slider\", min:5, max:40, step:1}\n",
        "\n",
        "display_nearest_neighbors(query, answer)\n"
      ],
      "execution_count": 0,
      "outputs": [
        {
          "output_type": "stream",
          "text": [
            "['.ii) \\xa0localisation du terrain faisant l’objet de la demande et description des travaux d’abattage d’arbres pour lesquels une demande de certificat d’autorisation est faite.', '.iii) \\xa0sauf pour la coupe d’arbre mort, malade ou dangereux, un plan d’aménagement du site doit être remis comprenant (Règlement 2534- 2015): .- \\xa0les superficies visées par l’abattage d’arbre.', 'La demande d’autorisation doit comprendre les informations suivantes : .i) \\xa0mention de l’entrepreneur qui procédera à la coupe, ou du titulaire du droit de coupe et de l’ingénieur forestier qui a prescrit les travaux s’il y a lieu.', 'La demande d’autorisation doit comprendre les informations suivantes (Règlement 2534-2015) : .i) localisation du terrain faisant l’objet de la demande et l’identification des arbres à abattre pour lesquels une demande de certificat d’autorisation est faite.', '.abattage d’arbres pour fins autres que l’exploitation forestière : .Toute personne désirant effectuer un abattage d’un ou de plusieurs arbres pour d’autres fins que l’exploitation forestière doit obtenir un certificat d’autorisation à cet effet.', 'Abattage d’arbres .a) abattage d’arbres pour fins d’exploitation forestière : .Toute personne désirant effectuer un abattage de plus de 10 % des tiges sur une superficie de 5 000 mètres carrés ou plus, doit obtenir un certificat d’autorisation à cet effet.', 'l’inspecteur doit émettre ou refuser, le cas échéant, à l’intérieur de ce délai, le permis ou certificat d’autorisation demandé.', '.e) \\xa0la cinquième colonne indique la caducité du permis ou certificat d’autorisation.', 'ce délai débute à compter de la date d’émission du permis ou certificat d’autorisation.', '(Règlement 2534-2015) .r) \\xa0l’élagage d’un arbre dans la rive lorsqu’il est malade ou dangereux.']\n"
          ],
          "name": "stdout"
        },
        {
          "output_type": "display_data",
          "data": {
            "text/html": [
              "\n",
              "    <p>Random Question from SQuAD:</p>\n",
              "    <p>&nbsp;&nbsp;<b>permis pour enlever un chêne ?</b></p>\n",
              "    <p>Answer:</p>\n",
              "    <p>&nbsp;&nbsp;<b>cookies</b></p>\n",
              "    \n",
              "    <p>Retrieved sentences :\n",
              "    <ol>\n",
              "  <li> .ii)  localisation du terrain faisant l’objet de la demande et description des travaux d’abattage d’arbres pour lesquels une demande de certificat d’autorisation est faite.</li>\n",
              "<li> .iii)  sauf pour la coupe d’arbre mort, malade ou dangereux, un plan d’aménagement du site doit être remis comprenant (Règlement 2534- 2015): .-  les superficies visées par l’abattage d’arbre.</li>\n",
              "<li> La demande d’autorisation doit comprendre les informations suivantes : .i)  mention de l’entrepreneur qui procédera à la coupe, ou du titulaire du droit de coupe et de l’ingénieur forestier qui a prescrit les travaux s’il y a lieu.</li>\n",
              "<li> La demande d’autorisation doit comprendre les informations suivantes (Règlement 2534-2015) : .i) localisation du terrain faisant l’objet de la demande et l’identification des arbres à abattre pour lesquels une demande de certificat d’autorisation est faite.</li>\n",
              "<li> .abattage d’arbres pour fins autres que l’exploitation forestière : .Toute personne désirant effectuer un abattage d’un ou de plusieurs arbres pour d’autres fins que l’exploitation forestière doit obtenir un certificat d’autorisation à cet effet.</li>\n",
              "<li> Abattage d’arbres .a) abattage d’arbres pour fins d’exploitation forestière : .Toute personne désirant effectuer un abattage de plus de 10 % des tiges sur une superficie de 5 000 mètres carrés ou plus, doit obtenir un certificat d’autorisation à cet effet.</li>\n",
              "<li> l’inspecteur doit émettre ou refuser, le cas échéant, à l’intérieur de ce délai, le permis ou certificat d’autorisation demandé.</li>\n",
              "<li> .e)  la cinquième colonne indique la caducité du permis ou certificat d’autorisation.</li>\n",
              "<li> ce délai débute à compter de la date d’émission du permis ou certificat d’autorisation.</li>\n",
              "<li> (Règlement 2534-2015) .r)  l’élagage d’un arbre dans la rive lorsqu’il est malade ou dangereux.</li>\n",
              "</ol>"
            ],
            "text/plain": [
              "<IPython.core.display.HTML object>"
            ]
          },
          "metadata": {
            "tags": []
          }
        }
      ]
    }
  ]
}