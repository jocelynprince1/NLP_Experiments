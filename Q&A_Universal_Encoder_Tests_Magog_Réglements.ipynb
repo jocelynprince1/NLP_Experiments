{
  "nbformat": 4,
  "nbformat_minor": 0,
  "metadata": {
    "accelerator": "GPU",
    "colab": {
      "name": "Q&A Universal Encoder Tests Magog Réglements",
      "provenance": [],
      "collapsed_sections": [],
      "include_colab_link": true
    },
    "kernelspec": {
      "display_name": "Python 3",
      "language": "python",
      "name": "python3"
    }
  },
  "cells": [
    {
      "cell_type": "markdown",
      "metadata": {
        "id": "view-in-github",
        "colab_type": "text"
      },
      "source": [
        "<a href=\"https://colab.research.google.com/github/jocelynprince1/NLP_Experiments/blob/master/Q%26A_Universal_Encoder_Tests_Magog_R%C3%A9glements.ipynb\" target=\"_parent\"><img src=\"https://colab.research.google.com/assets/colab-badge.svg\" alt=\"Open In Colab\"/></a>"
      ]
    },
    {
      "cell_type": "markdown",
      "metadata": {
        "id": "zJPvEnC3wVR8",
        "colab_type": "text"
      },
      "source": [
        "# Q&A With Universal Sentence Encoder - TensorFlow Hub module\n",
        "\n",
        "#### Jocelyn Prince (Mar 2020) based on examples provided by references below\n",
        "---"
      ]
    },
    {
      "cell_type": "markdown",
      "metadata": {
        "id": "j3PXQr6jwVR_",
        "colab_type": "text"
      },
      "source": [
        "### Description\n",
        "Find some specific statements in \"Règlements de la Ville de Magog\" to perform semantic searches (e.g. not using the same words but the same meaning).\n",
        "\n",
        "Example:  Demander \"permis pour enlever un chêne\"; le système trouve le règlement approprié qui traite \"d'abbatage d'arbes\".  Différents mots mais sens identiques.\n",
        "\n",
        "References:\n",
        "\n",
        "* ELMo: Contextual language embedding by Josh Taylor: https://towardsdatascience.com/elmo-contextual-language-embedding-335de2268604\n",
        "\n",
        "* Prateek Joshi and his post: https://www.analyticsvidhya.com/blog/2019/03/learn-to-use-elmo-to-extract-features-from-text/\n",
        "\n",
        "* https://arxiv.org/pdf/1802.05365.pdf\n",
        "\n",
        "* https://colab.research.google.com/github/tensorflow/hub/blob/master/examples/colab/tf2_text_classification.ipynb#scrollTo=Eg62Pmz3o83v\n",
        "\n",
        "* Aurélien Géron’s Book: hands-on Machine Learning with Scikit-Learn, Keras and Tensorflow, O’Reilly Media Inc.\n",
        "-----"
      ]
    },
    {
      "cell_type": "markdown",
      "metadata": {
        "colab_type": "text",
        "id": "zsDm_WgMNlJQ"
      },
      "source": [
        "This is a demo for using [Univeral Encoder Multilingual Q&A model](https://tfhub.dev/google/universal-sentence-encoder-multilingual-qa/3) for question-answer retrieval of text, illustrating the use of **question_encoder** and **response_encoder** of the model. \n",
        "\n",
        "The original notebook used sentences from [SQuAD](https://rajpurkar.github.io/SQuAD-explorer/) paragraphs as the demo dataset, each sentence and its context (the text surrounding the sentence) is encoded into high dimension embeddings with the **response_encoder**. These embeddings are stored in an index built using the [simpleneighbors](https://pypi.org/project/simpleneighbors/) library for question-answer retrieval.\n",
        "\n",
        "Note: This colab requires **Python 3** runtime type, which can be selected from ***Runtime->Change Runtime type*** dropdown menu above, and\n",
        "to enable faster processing, select Hardware Accelerator \"**GPU**\". Estimated indexing time of the SQuAD train 2.0 dataset with ~94,000 sentences with GPU is about 3 mins."
      ]
    },
    {
      "cell_type": "code",
      "metadata": {
        "cellView": "both",
        "colab_type": "code",
        "id": "x00t_uJCEbeb",
        "colab": {}
      },
      "source": [
        "#%%capture\n",
        "#@title Setup Environment\n",
        "# Install the latest Tensorflow version.\n",
        "!pip3 install tensorflow_text\n",
        "!pip3 install --upgrade tensorflow-gpu\n",
        "!pip3 install tensorflow-hub\n",
        "!pip3 install simpleneighbors\n",
        "!pip3 install nltk"
      ],
      "execution_count": 0,
      "outputs": []
    },
    {
      "cell_type": "code",
      "metadata": {
        "cellView": "code",
        "colab_type": "code",
        "id": "DmeFAuVsyWxg",
        "outputId": "08a62de8-8751-42eb-8d31-984cb7e6da17",
        "colab": {
          "base_uri": "https://localhost:8080/",
          "height": 51
        }
      },
      "source": [
        "#@title Setup common imports and functions\n",
        "import json\n",
        "import nltk\n",
        "import os\n",
        "import pprint\n",
        "import random\n",
        "import simpleneighbors\n",
        "import urllib\n",
        "from IPython.display import HTML, display\n",
        "\n",
        "import tensorflow.compat.v2 as tf\n",
        "import tensorflow_hub as hub\n",
        "from tensorflow_text import SentencepieceTokenizer\n",
        "\n",
        "nltk.download('punkt')\n",
        "\n",
        "\n",
        "def download_squad(url):\n",
        "  return json.load(urllib.request.urlopen(url))\n",
        "\n",
        "def extract_sentences_from_squad_json(squad):\n",
        "  all_sentences = []\n",
        "  for data in squad['data']:\n",
        "    for paragraph in data['paragraphs']:\n",
        "      sentences = nltk.tokenize.sent_tokenize(paragraph['context'])\n",
        "      all_sentences.extend(zip(sentences, [paragraph['context']] * len(sentences)))\n",
        "  return list(set(all_sentences)) # remove duplicates\n",
        "\n",
        "def extract_questions_from_squad_json(squad):\n",
        "  questions = []\n",
        "  for data in squad['data']:\n",
        "    for paragraph in data['paragraphs']:\n",
        "      for qas in paragraph['qas']:\n",
        "        if qas['answers']:\n",
        "          questions.append((qas['question'], qas['answers'][0]['text']))\n",
        "  return list(set(questions))\n",
        "\n",
        "def output_with_highlight(text, highlight):\n",
        "  output = \"<li> \"\n",
        "  i = text.find(highlight)\n",
        "  while True:\n",
        "    if i == -1:\n",
        "      output += text\n",
        "      break\n",
        "    output += text[0:i]\n",
        "    output += '<b>'+text[i:i+len(highlight)]+'</b>'\n",
        "    text = text[i+len(highlight):]\n",
        "    i = text.find(highlight)\n",
        "  return output + \"</li>\\n\"\n",
        "\n",
        "def display_nearest_neighbors(query_text, answer_text=None):\n",
        "  query_embedding = model.signatures['question_encoder'](tf.constant([query_text]))['outputs'][0]\n",
        "  #print(query_embedding)\n",
        "  search_results = index.nearest(query_embedding, n=num_results)\n",
        "  print(search_results)\n",
        "\n",
        "  if answer_text:\n",
        "    result_md = '''\n",
        "    <p> Question:</p>\n",
        "    <p>&nbsp;&nbsp;<b>%s</b></p>\n",
        "    <p>Answer:</p>\n",
        "    <p>&nbsp;&nbsp;<b>%s</b></p>\n",
        "    ''' % (query_text , answer_text)\n",
        "  else:\n",
        "    result_md = '''\n",
        "    <p>Question:</p>\n",
        "    <p>&nbsp;&nbsp;<b>%s</b></p>\n",
        "    ''' % query_text\n",
        "\n",
        "  result_md += '''\n",
        "    <p>Retrieved sentences :\n",
        "    <ol>\n",
        "  '''\n",
        "\n",
        "  if answer_text:\n",
        "    for s in search_results:\n",
        "      result_md += output_with_highlight(s, answer_text)\n",
        "  else:\n",
        "    for s in search_results:\n",
        "      result_md += '<li>'+ s +'</li>\\n'\n",
        "\n",
        "  result_md += \"</ol>\"\n",
        "  display(HTML(result_md))"
      ],
      "execution_count": 21,
      "outputs": [
        {
          "output_type": "stream",
          "text": [
            "[nltk_data] Downloading package punkt to /root/nltk_data...\n",
            "[nltk_data]   Package punkt is already up-to-date!\n"
          ],
          "name": "stdout"
        }
      ]
    },
    {
      "cell_type": "code",
      "metadata": {
        "id": "FAGYxh-cSazd",
        "colab_type": "code",
        "outputId": "6580ca4d-61a9-48b3-94da-b6320412ea6f",
        "colab": {
          "base_uri": "https://localhost:8080/",
          "height": 34
        }
      },
      "source": [
        "from google.colab import drive\n",
        "drive.mount('/content/drive')"
      ],
      "execution_count": 22,
      "outputs": [
        {
          "output_type": "stream",
          "text": [
            "Drive already mounted at /content/drive; to attempt to forcibly remount, call drive.mount(\"/content/drive\", force_remount=True).\n"
          ],
          "name": "stdout"
        }
      ]
    },
    {
      "cell_type": "code",
      "metadata": {
        "id": "a8H5pFQjrqHF",
        "colab_type": "code",
        "colab": {}
      },
      "source": [
        "# This Notebook needs to be executed under Python ≥3.5 and TensorFlow >= 2.0\n",
        "import sys\n",
        "assert sys.version_info >= (3, 5)\n",
        "\n",
        "\n",
        "# Common imports\n",
        "import time\n",
        "import pandas as pd\n",
        "import numpy as np"
      ],
      "execution_count": 0,
      "outputs": []
    },
    {
      "cell_type": "code",
      "metadata": {
        "id": "tks_4eXwiqVR",
        "colab_type": "code",
        "colab": {}
      },
      "source": [
        "# *!**!*!*!*!*!*!*!*\n",
        "# ATTENTION: Fichiers doivent être sauvegardés en UTF-8\n",
        "# -----------------------------------------------------\n",
        "\n",
        "#TOS_file = \"/content/drive/My Drive/Colab Notebooks/NLP/Terms_of_use/Apple_Terms_of_Use_2019.txt\"\n",
        "#TOS_file = \"/content/drive/My Drive/Colab Notebooks/NLP/Terms_of_use/Apple_Terms_of_Use_2019v2.txt\"\n",
        "#TOS_file = \"/content/drive/My Drive/Colab Notebooks/NLP/Terms_of_use/applev3.txt\"\n",
        "#TOS_file = \"/content/drive/My Drive/Colab Notebooks/NLP/Terms_of_use/weathernetworkv1.txt\"\n",
        "#TOS_file = \"/content/drive/My Drive/Colab Notebooks/NLP/Terms_of_use/Test1.txt\"\n",
        "TOS_file = \"/content/drive/My Drive/Colab Notebooks/NLP/Reglements/Magog_reglements3.txt\"\n",
        "\n",
        "# *!**!*!*!*!*!*!*!*\n",
        "# ATTENTION: Fichiers doivent être sauvegardés en UTF-8\n",
        "# -----------------------------------------------------\n"
      ],
      "execution_count": 0,
      "outputs": []
    },
    {
      "cell_type": "code",
      "metadata": {
        "id": "HLK3_XTQj50V",
        "colab_type": "code",
        "colab": {}
      },
      "source": [
        "import nltk\n",
        "nltk.download('punkt')\n",
        "fileObj = open(TOS_file, 'r')\n",
        "text = fileObj.read()\n",
        "tokens = nltk.sent_tokenize(text)\n",
        "print(tokens)"
      ],
      "execution_count": 0,
      "outputs": []
    },
    {
      "cell_type": "code",
      "metadata": {
        "id": "frPyHPWxjayi",
        "colab_type": "code",
        "colab": {}
      },
      "source": [
        "fileObj.close()"
      ],
      "execution_count": 0,
      "outputs": []
    },
    {
      "cell_type": "code",
      "metadata": {
        "id": "BW3OoILukqcL",
        "colab_type": "code",
        "colab": {}
      },
      "source": [
        "df_statement = pd.DataFrame(tokens, columns=[\"statement\"])"
      ],
      "execution_count": 0,
      "outputs": []
    },
    {
      "cell_type": "code",
      "metadata": {
        "id": "-2zIJ-SewVSR",
        "colab_type": "code",
        "outputId": "63f360af-33e4-4399-ea21-60705badb6f2",
        "colab": {
          "base_uri": "https://localhost:8080/",
          "height": 34
        }
      },
      "source": [
        "df_statement.shape"
      ],
      "execution_count": 27,
      "outputs": [
        {
          "output_type": "execute_result",
          "data": {
            "text/plain": [
              "(462, 1)"
            ]
          },
          "metadata": {
            "tags": []
          },
          "execution_count": 27
        }
      ]
    },
    {
      "cell_type": "code",
      "metadata": {
        "id": "alUUlF0yuaVh",
        "colab_type": "code",
        "outputId": "874dff5e-46cd-46c8-c08c-75b8a7fc708e",
        "colab": {
          "base_uri": "https://localhost:8080/",
          "height": 1000
        }
      },
      "source": [
        "for i in range(0, 20):\n",
        "  pprint.pprint (df_statement.statement[i])"
      ],
      "execution_count": 28,
      "outputs": [
        {
          "output_type": "stream",
          "text": [
            "('\\ufeffCHAPITRE I\\n'\n",
            " 'DISPOSITIONS DÉCLARATOIRES ET INTERPRÉTATIVES .SECTION I .DISPOSITIONS '\n",
            " 'DÉCLARATOIRES .Titre .Le présent règlement est intitulé « Règlement de '\n",
            " 'permis et certificats ».')\n",
            "('.Territoire assujetti .Le présent règlement s’applique à l’ensemble du '\n",
            " 'territoire de la Ville de Magog.')\n",
            "('.Règlements remplacés .Toute disposition incompatible avec le présent '\n",
            " 'règlement contenue dans tous les règlements municipaux antérieurs est, '\n",
            " 'par la présente, remplacée.')\n",
            "('.Sans restreindre la généralité du premier alinéa, le présent '\n",
            " 'règlement remplace le règlement 1382 du territoire de l’ancienne Ville de '\n",
            " 'Magog, le règlement 10-2002 du territoire de l’ancien Canton de Magog et le '\n",
            " 'règlement no 2000-197 du territoire de l’ancien Village d’Omerville et '\n",
            " 'leurs amendements.')\n",
            "('.SECTION II .DISPOSITIONS INTERPRÉTATIVES .Interprétation des tableaux '\n",
            " '.Les annexes, croquis, tableaux, diagrammes, graphiques, symboles et toutes '\n",
            " 'formes d’expression autres que le texte proprement dit, contenus dans ce '\n",
            " 'règlement ou auxquels il y est référé, en font partie intégrante à '\n",
            " 'toutes fins que de droit.')\n",
            "('.En cas de contradiction entre le texte et les annexes, croquis, tableaux, '\n",
            " 'diagrammes, graphiques, symboles et toutes autres formes d’expression, le '\n",
            " 'texte prévaut.')\n",
            "('.Primauté des mots .Les expressions et mots utilisés dans ce règlement '\n",
            " 'ont le sens que leur donne dans l’ordre de primauté suivant : .a) \\xa0le '\n",
            " 'présent règlement .')\n",
            "'.b) \\xa0le règlement de zonage .'\n",
            "('.2327-2009 – Règlement permis et certificats 6 Ville de Magog .Version '\n",
            " 'administrative Dernière mise à jour : 11 juillet 2019 .c) le règlement de '\n",
            " 'lotissement .')\n",
            "'.d) \\xa0le règlement de construction .'\n",
            "'.e) \\xa0le règlement de condition d’émission du permis de construire .'\n",
            "'.f) \\xa0Le sens usuel des expressions ou mots utilisés.'\n",
            "('.Définitions .À moins que le contexte ne comporte un sens différent, on '\n",
            " 'entend par : .« Certificat d’implantation » : Confirmation écrite de '\n",
            " 'l’exécution de l’implantation, soit l’ensemble des opérations effectuées '\n",
            " 'par l’arpenteur-géomètre dans le but de positionner au moyen de repères, '\n",
            " 'à partir de points connus, le site exact d’une structure et d’un plan '\n",
            " 'd’accompagnement délivrés par l’arpenteur-géomètre .')\n",
            "('.« Changement d’usage » : Modification d’un usage tel que défini, tant du '\n",
            " 'côté du Règlement de zonage que celui du Règlement de construction '\n",
            " '(Règlement 2350-2010) .')\n",
            "('.« Plan projet d’implantation » : Plan à l’échelle montrant la position '\n",
            " 'projetée du bâtiment sur le terrain faisant l’objet de la demande de '\n",
            " 'permis .')\n",
            "('.« Réparation d’une construction » : Signifie le remplacement de certains '\n",
            " 'éléments détériorés d’une construction par des éléments identiques, '\n",
            " 'de même nature ou équivalents, et ayant pour effet la conservation ou '\n",
            " 'l’entretien de ladite construction .')\n",
            "('.« Superficie brute totale des planchers » : La superficie totale de tous '\n",
            " 'les étages au-dessus du niveau du sol, calculée entre les faces externes '\n",
            " 'des murs extérieurs.')\n",
            "('.Système de mesure .Toutes les dimensions données dans le présent '\n",
            " 'règlement sont indiquées selon le système international (SI).')\n",
            "('.2327-2009 – Règlement permis et certificats 7 Version administrative Ville '\n",
            " 'de Magog Dernière mise à jour : 11 juillet 2019 .SECTION I .CHAPITRE II '\n",
            " 'DISPOSITIONS ADMINISTRATIVES .APPLICATION DU RÈGLEMENT .Administration du '\n",
            " 'règlement .La Direction de la planification et du développement du '\n",
            " 'territoire de la Ville est chargée de l’administration du présent '\n",
            " 'règlement.')\n",
            "('(Règlements 2428-2012 et 2728- 2019)) .Application .Les inspecteurs sont '\n",
            " 'chargés de l’application de présent règlement.')\n"
          ],
          "name": "stdout"
        }
      ]
    },
    {
      "cell_type": "code",
      "metadata": {
        "id": "KyHH2MpDqIDb",
        "colab_type": "code",
        "colab": {}
      },
      "source": [
        "fileObj.close()"
      ],
      "execution_count": 0,
      "outputs": []
    },
    {
      "cell_type": "markdown",
      "metadata": {
        "colab_type": "text",
        "id": "9x3u-2uSGbDf"
      },
      "source": [
        "The following code block setup the tensorflow graph **g** and **session** with the [Univeral Encoder Multilingual Q&A model](https://tfhub.dev/google/universal-sentence-encoder-multilingual-qa/3)'s **question_encoder** and **response_encoder** signatures."
      ]
    },
    {
      "cell_type": "code",
      "metadata": {
        "colab_type": "code",
        "id": "44I0uCRQRiFO",
        "outputId": "c3ea5c1c-4611-4e66-b6bf-4e7d39051417",
        "colab": {
          "base_uri": "https://localhost:8080/",
          "height": 51
        }
      },
      "source": [
        "#@title Load model from tensorflow hub\n",
        "%%time\n",
        "module_url = \"https://tfhub.dev/google/universal-sentence-encoder-multilingual-qa/3\" #@param [\"https://tfhub.dev/google/universal-sentence-encoder-multilingual-qa/3\", \"https://tfhub.dev/google/universal-sentence-encoder-qa/3\"]\n",
        "model = hub.load(module_url)\n"
      ],
      "execution_count": 30,
      "outputs": [
        {
          "output_type": "stream",
          "text": [
            "CPU times: user 11.4 s, sys: 1.63 s, total: 13 s\n",
            "Wall time: 12.6 s\n"
          ],
          "name": "stdout"
        }
      ]
    },
    {
      "cell_type": "markdown",
      "metadata": {
        "colab_type": "text",
        "id": "SCQpDmTZG0O6"
      },
      "source": [
        "The following code block compute the embeddings for all the text, context tuples and store them in a [simpleneighbors](https://pypi.org/project/simpleneighbors/) index using the **response_encoder**.\n"
      ]
    },
    {
      "cell_type": "code",
      "metadata": {
        "colab_type": "code",
        "id": "FwDUryIfSLp2",
        "outputId": "8f89f2ef-0b94-4966-8840-5b205d1e5e6d",
        "colab": {
          "base_uri": "https://localhost:8080/",
          "height": 51
        }
      },
      "source": [
        "#@title Compute embeddings and build simpleneighbors index\n",
        "%%time\n",
        "\n",
        "encodings = model.signatures['response_encoder'](\n",
        "  input=tf.constant(df_statement.statement[0]),\n",
        "  context=tf.constant(df_statement.statement[0]))\n",
        "index = simpleneighbors.SimpleNeighbors(\n",
        "    len(encodings['outputs'][0]), metric='angular')\n",
        "\n"
      ],
      "execution_count": 31,
      "outputs": [
        {
          "output_type": "stream",
          "text": [
            "CPU times: user 1.8 s, sys: 11.2 ms, total: 1.81 s\n",
            "Wall time: 1.71 s\n"
          ],
          "name": "stdout"
        }
      ]
    },
    {
      "cell_type": "code",
      "metadata": {
        "id": "WTMDypUgvQ-N",
        "colab_type": "code",
        "colab": {}
      },
      "source": [
        "#print(index)\n",
        "print(encodings)"
      ],
      "execution_count": 0,
      "outputs": []
    },
    {
      "cell_type": "code",
      "metadata": {
        "id": "ZSZsR3uvvME-",
        "colab_type": "code",
        "colab": {}
      },
      "source": [
        "#print('Computing embeddings for %s sentences' % len(df_statement))\n",
        "CONTEXT_SIZE = 2\n",
        "for i in range(len(df_statement)) :\n",
        "  if (i > CONTEXT_SIZE and i < (len(df_statement)-CONTEXT_SIZE)):\n",
        "    context_statement = df_statement.statement[i-2]+df_statement.statement[i-1]+df_statement.statement[i]+df_statement.statement[i+1]+df_statement.statement[i+2]\n",
        "  else:\n",
        "    context_statement = df_statement.statement[i]\n",
        "\n",
        "  encodings = model.signatures['response_encoder'](\n",
        "    input=tf.constant(df_statement.statement[i]),\n",
        "    context=tf.constant(context_statement))\n",
        "  array1 = encodings['outputs'][0].numpy()\n",
        "  index.add_one(df_statement.statement[i], array1)"
      ],
      "execution_count": 0,
      "outputs": []
    },
    {
      "cell_type": "code",
      "metadata": {
        "id": "qkpHV_UK0F02",
        "colab_type": "code",
        "colab": {}
      },
      "source": [
        "index.build()"
      ],
      "execution_count": 0,
      "outputs": []
    },
    {
      "cell_type": "code",
      "metadata": {
        "id": "TRglbpT2l9uh",
        "colab_type": "code",
        "outputId": "69569f9a-6b61-4ad4-feb9-e6561f9af87f",
        "cellView": "both",
        "colab": {
          "base_uri": "https://localhost:8080/",
          "height": 401
        }
      },
      "source": [
        "#@title Semantic search\n",
        "#@markdown Enter a set of words to find matching sentences. \n",
        "# 'results_returned' can beused to modify the number of matching \n",
        "# sentences retured. \n",
        "query = 'permis pour enlever un ch\\xEAne ?' #@param {type:\"string\"}\n",
        "answer = 'cookies'\n",
        "num_results = 10 #@param {type:\"slider\", min:5, max:40, step:1}\n",
        "\n",
        "display_nearest_neighbors(query, answer)\n",
        "\n"
      ],
      "execution_count": 35,
      "outputs": [
        {
          "output_type": "stream",
          "text": [
            "['.ii) \\xa0localisation du terrain faisant l’objet de la demande et description des travaux d’abattage d’arbres pour lesquels une demande de certificat d’autorisation est faite.', '.iii) \\xa0sauf pour la coupe d’arbre mort, malade ou dangereux, un plan d’aménagement du site doit être remis comprenant (Règlement 2534- 2015): .- \\xa0les superficies visées par l’abattage d’arbre.', 'La demande d’autorisation doit comprendre les informations suivantes : .i) \\xa0mention de l’entrepreneur qui procédera à la coupe, ou du titulaire du droit de coupe et de l’ingénieur forestier qui a prescrit les travaux s’il y a lieu.', 'La demande d’autorisation doit comprendre les informations suivantes (Règlement 2534-2015) : .i) localisation du terrain faisant l’objet de la demande et l’identification des arbres à abattre pour lesquels une demande de certificat d’autorisation est faite.', '.abattage d’arbres pour fins autres que l’exploitation forestière : .Toute personne désirant effectuer un abattage d’un ou de plusieurs arbres pour d’autres fins que l’exploitation forestière doit obtenir un certificat d’autorisation à cet effet.', 'Abattage d’arbres .a) abattage d’arbres pour fins d’exploitation forestière : .Toute personne désirant effectuer un abattage de plus de 10 % des tiges sur une superficie de 5 000 mètres carrés ou plus, doit obtenir un certificat d’autorisation à cet effet.', 'l’inspecteur doit émettre ou refuser, le cas échéant, à l’intérieur de ce délai, le permis ou certificat d’autorisation demandé.', '.e) \\xa0la cinquième colonne indique la caducité du permis ou certificat d’autorisation.', 'ce délai débute à compter de la date d’émission du permis ou certificat d’autorisation.', '(Règlement 2534-2015) .r) \\xa0l’élagage d’un arbre dans la rive lorsqu’il est malade ou dangereux.']\n"
          ],
          "name": "stdout"
        },
        {
          "output_type": "display_data",
          "data": {
            "text/html": [
              "\n",
              "    <p> Question:</p>\n",
              "    <p>&nbsp;&nbsp;<b>permis pour enlever un chêne ?</b></p>\n",
              "    <p>Answer:</p>\n",
              "    <p>&nbsp;&nbsp;<b>cookies</b></p>\n",
              "    \n",
              "    <p>Retrieved sentences :\n",
              "    <ol>\n",
              "  <li> .ii)  localisation du terrain faisant l’objet de la demande et description des travaux d’abattage d’arbres pour lesquels une demande de certificat d’autorisation est faite.</li>\n",
              "<li> .iii)  sauf pour la coupe d’arbre mort, malade ou dangereux, un plan d’aménagement du site doit être remis comprenant (Règlement 2534- 2015): .-  les superficies visées par l’abattage d’arbre.</li>\n",
              "<li> La demande d’autorisation doit comprendre les informations suivantes : .i)  mention de l’entrepreneur qui procédera à la coupe, ou du titulaire du droit de coupe et de l’ingénieur forestier qui a prescrit les travaux s’il y a lieu.</li>\n",
              "<li> La demande d’autorisation doit comprendre les informations suivantes (Règlement 2534-2015) : .i) localisation du terrain faisant l’objet de la demande et l’identification des arbres à abattre pour lesquels une demande de certificat d’autorisation est faite.</li>\n",
              "<li> .abattage d’arbres pour fins autres que l’exploitation forestière : .Toute personne désirant effectuer un abattage d’un ou de plusieurs arbres pour d’autres fins que l’exploitation forestière doit obtenir un certificat d’autorisation à cet effet.</li>\n",
              "<li> Abattage d’arbres .a) abattage d’arbres pour fins d’exploitation forestière : .Toute personne désirant effectuer un abattage de plus de 10 % des tiges sur une superficie de 5 000 mètres carrés ou plus, doit obtenir un certificat d’autorisation à cet effet.</li>\n",
              "<li> l’inspecteur doit émettre ou refuser, le cas échéant, à l’intérieur de ce délai, le permis ou certificat d’autorisation demandé.</li>\n",
              "<li> .e)  la cinquième colonne indique la caducité du permis ou certificat d’autorisation.</li>\n",
              "<li> ce délai débute à compter de la date d’émission du permis ou certificat d’autorisation.</li>\n",
              "<li> (Règlement 2534-2015) .r)  l’élagage d’un arbre dans la rive lorsqu’il est malade ou dangereux.</li>\n",
              "</ol>"
            ],
            "text/plain": [
              "<IPython.core.display.HTML object>"
            ]
          },
          "metadata": {
            "tags": []
          }
        }
      ]
    }
  ]
}